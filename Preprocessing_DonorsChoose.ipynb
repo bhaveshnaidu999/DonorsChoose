{
  "nbformat": 4,
  "nbformat_minor": 0,
  "metadata": {
    "kernelspec": {
      "display_name": "Python 3",
      "language": "python",
      "name": "python3"
    },
    "language_info": {
      "codemirror_mode": {
        "name": "ipython",
        "version": 3
      },
      "file_extension": ".py",
      "mimetype": "text/x-python",
      "name": "python",
      "nbconvert_exporter": "python",
      "pygments_lexer": "ipython3",
      "version": "3.6.8"
    },
    "colab": {
      "name": "Preprocessing DonorsChoose.ipynb",
      "provenance": []
    }
  },
  "cells": [
    {
      "cell_type": "markdown",
      "metadata": {
        "id": "jcvDbLaJeHnl"
      },
      "source": [
        "# DonorsChoose"
      ]
    },
    {
      "cell_type": "markdown",
      "metadata": {
        "id": "redUQbpGKtXf"
      },
      "source": [
        "As we have lots of text data and categorical features to work with we first need to preprocess the text and categorical features inorder to help us in the vectorization step later"
      ]
    },
    {
      "cell_type": "code",
      "metadata": {
        "id": "aKitpqvjeHnl"
      },
      "source": [
        "%matplotlib inline\n",
        "import warnings\n",
        "warnings.filterwarnings(\"ignore\")\n",
        "\n",
        "import pandas as pd\n",
        "import numpy as np\n",
        "from sklearn.feature_extraction.text import TfidfVectorizer\n",
        "from sklearn.feature_extraction.text import CountVectorizer\n",
        "\n",
        "\n",
        "import re\n",
        "# Tutorial about Python regular expressions: https://pymotw.com/2/re/\n",
        "\n",
        "from nltk.corpus import stopwords\n",
        "import pickle\n",
        "\n",
        "from tqdm import tqdm\n",
        "import os"
      ],
      "execution_count": 2,
      "outputs": []
    },
    {
      "cell_type": "markdown",
      "metadata": {
        "id": "NHUPmUfGeHnm"
      },
      "source": [
        "## 1. Reading Data"
      ]
    },
    {
      "cell_type": "code",
      "metadata": {
        "id": "v04A8_O5eHnm"
      },
      "source": [
        "project_data = pd.read_csv('/content/drive/My Drive/Colab Notebooks/Assignment_applied_AI/Assignment_8/6_Donors_choose_NB/train_data.csv')\n",
        "resource_data = pd.read_csv('/content/drive/My Drive/Colab Notebooks/Assignment_applied_AI/Assignment_8/6_Donors_choose_NB/resources.csv')"
      ],
      "execution_count": 5,
      "outputs": []
    },
    {
      "cell_type": "code",
      "metadata": {
        "id": "ILiel6tgeHnm",
        "colab": {
          "base_uri": "https://localhost:8080/"
        },
        "outputId": "0ae7fb35-a024-4489-ead8-763c5932505a"
      },
      "source": [
        "print(\"Number of data points in train data\", project_data.shape)\n",
        "print('-'*50)\n",
        "print(\"The attributes of data :\", project_data.columns.values)"
      ],
      "execution_count": 6,
      "outputs": [
        {
          "output_type": "stream",
          "text": [
            "Number of data points in train data (109248, 17)\n",
            "--------------------------------------------------\n",
            "The attributes of data : ['Unnamed: 0' 'id' 'teacher_id' 'teacher_prefix' 'school_state'\n",
            " 'project_submitted_datetime' 'project_grade_category'\n",
            " 'project_subject_categories' 'project_subject_subcategories'\n",
            " 'project_title' 'project_essay_1' 'project_essay_2' 'project_essay_3'\n",
            " 'project_essay_4' 'project_resource_summary'\n",
            " 'teacher_number_of_previously_posted_projects' 'project_is_approved']\n"
          ],
          "name": "stdout"
        }
      ]
    },
    {
      "cell_type": "code",
      "metadata": {
        "id": "L5WyW7FFeHnn",
        "colab": {
          "base_uri": "https://localhost:8080/",
          "height": 149
        },
        "outputId": "179fa782-d5ed-403d-da21-0f5105d57add"
      },
      "source": [
        "print(\"Number of data points in train data\", resource_data.shape)\n",
        "print(resource_data.columns.values)\n",
        "resource_data.head(2)"
      ],
      "execution_count": 7,
      "outputs": [
        {
          "output_type": "stream",
          "text": [
            "Number of data points in train data (1541272, 4)\n",
            "['id' 'description' 'quantity' 'price']\n"
          ],
          "name": "stdout"
        },
        {
          "output_type": "execute_result",
          "data": {
            "text/html": [
              "<div>\n",
              "<style scoped>\n",
              "    .dataframe tbody tr th:only-of-type {\n",
              "        vertical-align: middle;\n",
              "    }\n",
              "\n",
              "    .dataframe tbody tr th {\n",
              "        vertical-align: top;\n",
              "    }\n",
              "\n",
              "    .dataframe thead th {\n",
              "        text-align: right;\n",
              "    }\n",
              "</style>\n",
              "<table border=\"1\" class=\"dataframe\">\n",
              "  <thead>\n",
              "    <tr style=\"text-align: right;\">\n",
              "      <th></th>\n",
              "      <th>id</th>\n",
              "      <th>description</th>\n",
              "      <th>quantity</th>\n",
              "      <th>price</th>\n",
              "    </tr>\n",
              "  </thead>\n",
              "  <tbody>\n",
              "    <tr>\n",
              "      <th>0</th>\n",
              "      <td>p233245</td>\n",
              "      <td>LC652 - Lakeshore Double-Space Mobile Drying Rack</td>\n",
              "      <td>1</td>\n",
              "      <td>149.00</td>\n",
              "    </tr>\n",
              "    <tr>\n",
              "      <th>1</th>\n",
              "      <td>p069063</td>\n",
              "      <td>Bouncy Bands for Desks (Blue support pipes)</td>\n",
              "      <td>3</td>\n",
              "      <td>14.95</td>\n",
              "    </tr>\n",
              "  </tbody>\n",
              "</table>\n",
              "</div>"
            ],
            "text/plain": [
              "        id                                        description  quantity   price\n",
              "0  p233245  LC652 - Lakeshore Double-Space Mobile Drying Rack         1  149.00\n",
              "1  p069063        Bouncy Bands for Desks (Blue support pipes)         3   14.95"
            ]
          },
          "metadata": {
            "tags": []
          },
          "execution_count": 7
        }
      ]
    },
    {
      "cell_type": "markdown",
      "metadata": {
        "id": "CRBb0BPreHnn"
      },
      "source": [
        "# 2. Preprocessing Categorical Features: project_grade_category"
      ]
    },
    {
      "cell_type": "code",
      "metadata": {
        "id": "w-ffA9zbeHnn",
        "colab": {
          "base_uri": "https://localhost:8080/"
        },
        "outputId": "2e35e147-202d-401b-c258-daba23ff0e23"
      },
      "source": [
        "project_data['project_grade_category'].value_counts()"
      ],
      "execution_count": 8,
      "outputs": [
        {
          "output_type": "execute_result",
          "data": {
            "text/plain": [
              "Grades PreK-2    44225\n",
              "Grades 3-5       37137\n",
              "Grades 6-8       16923\n",
              "Grades 9-12      10963\n",
              "Name: project_grade_category, dtype: int64"
            ]
          },
          "metadata": {
            "tags": []
          },
          "execution_count": 8
        }
      ]
    },
    {
      "cell_type": "markdown",
      "metadata": {
        "id": "peM3qs_GeHnn"
      },
      "source": [
        "we need to remove the spaces, replace the '-' with '_' and convert all the letters to small"
      ]
    },
    {
      "cell_type": "code",
      "metadata": {
        "id": "WP6Kf6uYeHnn",
        "colab": {
          "base_uri": "https://localhost:8080/"
        },
        "outputId": "a4cc246e-5e69-42dd-a1e8-03d59597bc80"
      },
      "source": [
        "# https://stackoverflow.com/questions/36383821/pandas-dataframe-apply-function-to-column-strings-based-on-other-column-value\n",
        "project_data['project_grade_category'] = project_data['project_grade_category'].str.replace(' ','_')\n",
        "project_data['project_grade_category'] = project_data['project_grade_category'].str.replace('-','_')\n",
        "project_data['project_grade_category'] = project_data['project_grade_category'].str.lower()\n",
        "project_data['project_grade_category'].value_counts()"
      ],
      "execution_count": 9,
      "outputs": [
        {
          "output_type": "execute_result",
          "data": {
            "text/plain": [
              "grades_prek_2    44225\n",
              "grades_3_5       37137\n",
              "grades_6_8       16923\n",
              "grades_9_12      10963\n",
              "Name: project_grade_category, dtype: int64"
            ]
          },
          "metadata": {
            "tags": []
          },
          "execution_count": 9
        }
      ]
    },
    {
      "cell_type": "markdown",
      "metadata": {
        "id": "KL_7aJq7eHnn"
      },
      "source": [
        "# 3. Preprocessing Categorical Features: project_subject_categories"
      ]
    },
    {
      "cell_type": "code",
      "metadata": {
        "scrolled": true,
        "id": "HZQkOcUCeHnn",
        "colab": {
          "base_uri": "https://localhost:8080/"
        },
        "outputId": "cd7efa93-0471-4a15-c7fd-e3d3edd74a79"
      },
      "source": [
        "project_data['project_subject_categories'].value_counts()"
      ],
      "execution_count": 10,
      "outputs": [
        {
          "output_type": "execute_result",
          "data": {
            "text/plain": [
              "Literacy & Language                           23655\n",
              "Math & Science                                17072\n",
              "Literacy & Language, Math & Science           14636\n",
              "Health & Sports                               10177\n",
              "Music & The Arts                               5180\n",
              "Special Needs                                  4226\n",
              "Literacy & Language, Special Needs             3961\n",
              "Applied Learning                               3771\n",
              "Math & Science, Literacy & Language            2289\n",
              "Applied Learning, Literacy & Language          2191\n",
              "History & Civics                               1851\n",
              "Math & Science, Special Needs                  1840\n",
              "Literacy & Language, Music & The Arts          1757\n",
              "Math & Science, Music & The Arts               1642\n",
              "Applied Learning, Special Needs                1467\n",
              "History & Civics, Literacy & Language          1421\n",
              "Health & Sports, Special Needs                 1391\n",
              "Warmth, Care & Hunger                          1309\n",
              "Math & Science, Applied Learning               1220\n",
              "Applied Learning, Math & Science               1052\n",
              "Literacy & Language, History & Civics           809\n",
              "Health & Sports, Literacy & Language            803\n",
              "Applied Learning, Music & The Arts              758\n",
              "Math & Science, History & Civics                652\n",
              "Literacy & Language, Applied Learning           636\n",
              "Applied Learning, Health & Sports               608\n",
              "Math & Science, Health & Sports                 414\n",
              "History & Civics, Math & Science                322\n",
              "History & Civics, Music & The Arts              312\n",
              "Special Needs, Music & The Arts                 302\n",
              "Health & Sports, Math & Science                 271\n",
              "History & Civics, Special Needs                 252\n",
              "Health & Sports, Applied Learning               192\n",
              "Applied Learning, History & Civics              178\n",
              "Health & Sports, Music & The Arts               155\n",
              "Music & The Arts, Special Needs                 138\n",
              "Literacy & Language, Health & Sports             72\n",
              "Health & Sports, History & Civics                43\n",
              "Special Needs, Health & Sports                   42\n",
              "History & Civics, Applied Learning               42\n",
              "Special Needs, Warmth, Care & Hunger             23\n",
              "Health & Sports, Warmth, Care & Hunger           23\n",
              "Music & The Arts, Health & Sports                19\n",
              "Music & The Arts, History & Civics               18\n",
              "History & Civics, Health & Sports                13\n",
              "Math & Science, Warmth, Care & Hunger            11\n",
              "Music & The Arts, Applied Learning               10\n",
              "Applied Learning, Warmth, Care & Hunger          10\n",
              "Literacy & Language, Warmth, Care & Hunger        9\n",
              "Music & The Arts, Warmth, Care & Hunger           2\n",
              "History & Civics, Warmth, Care & Hunger           1\n",
              "Name: project_subject_categories, dtype: int64"
            ]
          },
          "metadata": {
            "tags": []
          },
          "execution_count": 10
        }
      ]
    },
    {
      "cell_type": "markdown",
      "metadata": {
        "id": "Z5MDlikSeHnn"
      },
      "source": [
        ">remove spaces, 'the' <br>\n",
        "replace '&' with '\\_', and ',' with '_'"
      ]
    },
    {
      "cell_type": "code",
      "metadata": {
        "scrolled": true,
        "id": "r4hSJH3leHnn",
        "colab": {
          "base_uri": "https://localhost:8080/"
        },
        "outputId": "11620641-6952-40da-b4b0-872094b97eab"
      },
      "source": [
        "project_data['project_subject_categories'] = project_data['project_subject_categories'].str.replace(' The ','')\n",
        "project_data['project_subject_categories'] = project_data['project_subject_categories'].str.replace(' ','')\n",
        "project_data['project_subject_categories'] = project_data['project_subject_categories'].str.replace('&','_')\n",
        "project_data['project_subject_categories'] = project_data['project_subject_categories'].str.replace(',','_')\n",
        "project_data['project_subject_categories'] = project_data['project_subject_categories'].str.lower()\n",
        "project_data['project_subject_categories'].value_counts()"
      ],
      "execution_count": 11,
      "outputs": [
        {
          "output_type": "execute_result",
          "data": {
            "text/plain": [
              "literacy_language                       23655\n",
              "math_science                            17072\n",
              "literacy_language_math_science          14636\n",
              "health_sports                           10177\n",
              "music_arts                               5180\n",
              "specialneeds                             4226\n",
              "literacy_language_specialneeds           3961\n",
              "appliedlearning                          3771\n",
              "math_science_literacy_language           2289\n",
              "appliedlearning_literacy_language        2191\n",
              "history_civics                           1851\n",
              "math_science_specialneeds                1840\n",
              "literacy_language_music_arts             1757\n",
              "math_science_music_arts                  1642\n",
              "appliedlearning_specialneeds             1467\n",
              "history_civics_literacy_language         1421\n",
              "health_sports_specialneeds               1391\n",
              "warmth_care_hunger                       1309\n",
              "math_science_appliedlearning             1220\n",
              "appliedlearning_math_science             1052\n",
              "literacy_language_history_civics          809\n",
              "health_sports_literacy_language           803\n",
              "appliedlearning_music_arts                758\n",
              "math_science_history_civics               652\n",
              "literacy_language_appliedlearning         636\n",
              "appliedlearning_health_sports             608\n",
              "math_science_health_sports                414\n",
              "history_civics_math_science               322\n",
              "history_civics_music_arts                 312\n",
              "specialneeds_music_arts                   302\n",
              "health_sports_math_science                271\n",
              "history_civics_specialneeds               252\n",
              "health_sports_appliedlearning             192\n",
              "appliedlearning_history_civics            178\n",
              "health_sports_music_arts                  155\n",
              "music_arts_specialneeds                   138\n",
              "literacy_language_health_sports            72\n",
              "health_sports_history_civics               43\n",
              "history_civics_appliedlearning             42\n",
              "specialneeds_health_sports                 42\n",
              "health_sports_warmth_care_hunger           23\n",
              "specialneeds_warmth_care_hunger            23\n",
              "music_arts_health_sports                   19\n",
              "music_arts_history_civics                  18\n",
              "history_civics_health_sports               13\n",
              "math_science_warmth_care_hunger            11\n",
              "appliedlearning_warmth_care_hunger         10\n",
              "music_arts_appliedlearning                 10\n",
              "literacy_language_warmth_care_hunger        9\n",
              "music_arts_warmth_care_hunger               2\n",
              "history_civics_warmth_care_hunger           1\n",
              "Name: project_subject_categories, dtype: int64"
            ]
          },
          "metadata": {
            "tags": []
          },
          "execution_count": 11
        }
      ]
    },
    {
      "cell_type": "code",
      "metadata": {
        "colab": {
          "base_uri": "https://localhost:8080/"
        },
        "id": "B8F20wb21P-7",
        "outputId": "d19bb8e7-06a4-47a2-9de9-f38922244d86"
      },
      "source": [
        "# check if we have any nan values are there\n",
        "print(project_data['project_subject_categories'].isnull().values.any())\n",
        "print(\"number of nan values\",project_data['project_subject_categories'].isnull().values.sum())"
      ],
      "execution_count": 12,
      "outputs": [
        {
          "output_type": "stream",
          "text": [
            "False\n",
            "number of nan values 0\n"
          ],
          "name": "stdout"
        }
      ]
    },
    {
      "cell_type": "markdown",
      "metadata": {
        "id": "cPJ7DI04eHno"
      },
      "source": [
        "# 4. Preprocessing Categorical Features: teacher_prefix"
      ]
    },
    {
      "cell_type": "code",
      "metadata": {
        "id": "0o2Wt6EKeHno",
        "colab": {
          "base_uri": "https://localhost:8080/"
        },
        "outputId": "bc84f07b-0bbb-4f38-d19c-51203b943ecd"
      },
      "source": [
        "project_data['teacher_prefix'].value_counts()"
      ],
      "execution_count": 13,
      "outputs": [
        {
          "output_type": "execute_result",
          "data": {
            "text/plain": [
              "Mrs.       57269\n",
              "Ms.        38955\n",
              "Mr.        10648\n",
              "Teacher     2360\n",
              "Dr.           13\n",
              "Name: teacher_prefix, dtype: int64"
            ]
          },
          "metadata": {
            "tags": []
          },
          "execution_count": 13
        }
      ]
    },
    {
      "cell_type": "code",
      "metadata": {
        "id": "QjxvuHbIeHno",
        "colab": {
          "base_uri": "https://localhost:8080/"
        },
        "outputId": "8d34f7e9-f1f7-4a72-ba24-b3f7dc69600b"
      },
      "source": [
        "# check if we have any nan values are there\n",
        "print(project_data['teacher_prefix'].isnull().values.any())\n",
        "print(\"number of nan values\",project_data['teacher_prefix'].isnull().values.sum())"
      ],
      "execution_count": 14,
      "outputs": [
        {
          "output_type": "stream",
          "text": [
            "True\n",
            "number of nan values 3\n"
          ],
          "name": "stdout"
        }
      ]
    },
    {
      "cell_type": "markdown",
      "metadata": {
        "id": "BxJ9vN6feHno"
      },
      "source": [
        ">numebr of missing values are very less in number, we can replace it with Mrs. as most of the projects are submitted by Mrs."
      ]
    },
    {
      "cell_type": "code",
      "metadata": {
        "id": "2axbaLy4eHno"
      },
      "source": [
        "project_data['teacher_prefix']=project_data['teacher_prefix'].fillna('Mrs.')"
      ],
      "execution_count": 15,
      "outputs": []
    },
    {
      "cell_type": "code",
      "metadata": {
        "id": "WB6dQIkDeHno",
        "colab": {
          "base_uri": "https://localhost:8080/"
        },
        "outputId": "5c8ad24c-a986-4d17-8d97-e08e43df4198"
      },
      "source": [
        "project_data['teacher_prefix'].value_counts()"
      ],
      "execution_count": 16,
      "outputs": [
        {
          "output_type": "execute_result",
          "data": {
            "text/plain": [
              "Mrs.       57272\n",
              "Ms.        38955\n",
              "Mr.        10648\n",
              "Teacher     2360\n",
              "Dr.           13\n",
              "Name: teacher_prefix, dtype: int64"
            ]
          },
          "metadata": {
            "tags": []
          },
          "execution_count": 16
        }
      ]
    },
    {
      "cell_type": "markdown",
      "metadata": {
        "id": "xzzqoBuleHno"
      },
      "source": [
        ">Remove '.' <br>\n",
        ">convert all the chars to small"
      ]
    },
    {
      "cell_type": "code",
      "metadata": {
        "id": "jibQPV6eeHno",
        "colab": {
          "base_uri": "https://localhost:8080/"
        },
        "outputId": "4cf3f336-ba2c-491a-eab9-c3d25bedb77d"
      },
      "source": [
        "project_data['teacher_prefix'] = project_data['teacher_prefix'].str.replace('.','')\n",
        "project_data['teacher_prefix'] = project_data['teacher_prefix'].str.lower()\n",
        "project_data['teacher_prefix'].value_counts()        "
      ],
      "execution_count": 17,
      "outputs": [
        {
          "output_type": "execute_result",
          "data": {
            "text/plain": [
              "mrs        57272\n",
              "ms         38955\n",
              "mr         10648\n",
              "teacher     2360\n",
              "dr            13\n",
              "Name: teacher_prefix, dtype: int64"
            ]
          },
          "metadata": {
            "tags": []
          },
          "execution_count": 17
        }
      ]
    },
    {
      "cell_type": "markdown",
      "metadata": {
        "id": "2qfij13geHno"
      },
      "source": [
        "# 5. Preprocessing Categorical Features: project_subject_subcategories"
      ]
    },
    {
      "cell_type": "code",
      "metadata": {
        "scrolled": true,
        "id": "YGEFW5_weHno",
        "colab": {
          "base_uri": "https://localhost:8080/"
        },
        "outputId": "9bc9e7aa-1767-4264-9e4b-761d4a9278a7"
      },
      "source": [
        "project_data['project_subject_subcategories'].value_counts()"
      ],
      "execution_count": 18,
      "outputs": [
        {
          "output_type": "execute_result",
          "data": {
            "text/plain": [
              "Literacy                                      9486\n",
              "Literacy, Mathematics                         8325\n",
              "Literature & Writing, Mathematics             5923\n",
              "Literacy, Literature & Writing                5571\n",
              "Mathematics                                   5379\n",
              "                                              ... \n",
              "History & Geography, Warmth, Care & Hunger       1\n",
              "Community Service, Gym & Fitness                 1\n",
              "Community Service, Music                         1\n",
              "Economics, Foreign Languages                     1\n",
              "Financial Literacy, Performing Arts              1\n",
              "Name: project_subject_subcategories, Length: 401, dtype: int64"
            ]
          },
          "metadata": {
            "tags": []
          },
          "execution_count": 18
        }
      ]
    },
    {
      "cell_type": "markdown",
      "metadata": {
        "id": "iknDTz1ueHno"
      },
      "source": [
        "> same process we did in project_subject_categories"
      ]
    },
    {
      "cell_type": "code",
      "metadata": {
        "scrolled": true,
        "id": "MGsFFulMeHno",
        "colab": {
          "base_uri": "https://localhost:8080/"
        },
        "outputId": "8adfafb5-75c5-414e-ece4-5ead433136e9"
      },
      "source": [
        "project_data['project_subject_subcategories'] = project_data['project_subject_subcategories'].str.replace(' The ','')\n",
        "project_data['project_subject_subcategories'] = project_data['project_subject_subcategories'].str.replace(' ','')\n",
        "project_data['project_subject_subcategories'] = project_data['project_subject_subcategories'].str.replace('&','_')\n",
        "project_data['project_subject_subcategories'] = project_data['project_subject_subcategories'].str.replace(',','_')\n",
        "project_data['project_subject_subcategories'] = project_data['project_subject_subcategories'].str.lower()\n",
        "project_data['project_subject_subcategories'].value_counts()"
      ],
      "execution_count": 19,
      "outputs": [
        {
          "output_type": "execute_result",
          "data": {
            "text/plain": [
              "literacy                                 9486\n",
              "literacy_mathematics                     8325\n",
              "literature_writing_mathematics           5923\n",
              "literacy_literature_writing              5571\n",
              "mathematics                              5379\n",
              "                                         ... \n",
              "literature_writing_nutritioneducation       1\n",
              "extracurricular_financialliteracy           1\n",
              "financialliteracy_foreignlanguages          1\n",
              "history_geography_warmth_care_hunger        1\n",
              "other_warmth_care_hunger                    1\n",
              "Name: project_subject_subcategories, Length: 401, dtype: int64"
            ]
          },
          "metadata": {
            "tags": []
          },
          "execution_count": 19
        }
      ]
    },
    {
      "cell_type": "markdown",
      "metadata": {
        "id": "Ce8bszIreHno"
      },
      "source": [
        "# 6. Preprocessing Categorical Features: school_state"
      ]
    },
    {
      "cell_type": "code",
      "metadata": {
        "scrolled": true,
        "id": "Z2zfwrrYeHno",
        "colab": {
          "base_uri": "https://localhost:8080/"
        },
        "outputId": "3b4f0d75-7eef-4d19-8904-9c3a6961f2a7"
      },
      "source": [
        "project_data['school_state'].value_counts()"
      ],
      "execution_count": 20,
      "outputs": [
        {
          "output_type": "execute_result",
          "data": {
            "text/plain": [
              "CA    15388\n",
              "TX     7396\n",
              "NY     7318\n",
              "FL     6185\n",
              "NC     5091\n",
              "IL     4350\n",
              "GA     3963\n",
              "SC     3936\n",
              "MI     3161\n",
              "PA     3109\n",
              "IN     2620\n",
              "MO     2576\n",
              "OH     2467\n",
              "LA     2394\n",
              "MA     2389\n",
              "WA     2334\n",
              "OK     2276\n",
              "NJ     2237\n",
              "AZ     2147\n",
              "VA     2045\n",
              "WI     1827\n",
              "AL     1762\n",
              "UT     1731\n",
              "TN     1688\n",
              "CT     1663\n",
              "MD     1514\n",
              "NV     1367\n",
              "MS     1323\n",
              "KY     1304\n",
              "OR     1242\n",
              "MN     1208\n",
              "CO     1111\n",
              "AR     1049\n",
              "ID      693\n",
              "IA      666\n",
              "KS      634\n",
              "NM      557\n",
              "DC      516\n",
              "HI      507\n",
              "ME      505\n",
              "WV      503\n",
              "NH      348\n",
              "AK      345\n",
              "DE      343\n",
              "NE      309\n",
              "SD      300\n",
              "RI      285\n",
              "MT      245\n",
              "ND      143\n",
              "WY       98\n",
              "VT       80\n",
              "Name: school_state, dtype: int64"
            ]
          },
          "metadata": {
            "tags": []
          },
          "execution_count": 20
        }
      ]
    },
    {
      "cell_type": "markdown",
      "metadata": {
        "id": "K0IxyNBJeHno"
      },
      "source": [
        ">convert all of them into small letters"
      ]
    },
    {
      "cell_type": "code",
      "metadata": {
        "scrolled": true,
        "id": "WpJK-rqveHno",
        "colab": {
          "base_uri": "https://localhost:8080/"
        },
        "outputId": "07278967-dec1-476f-9de6-074dcc4d2924"
      },
      "source": [
        "project_data['school_state'] = project_data['school_state'].str.lower()\n",
        "project_data['school_state'].value_counts()"
      ],
      "execution_count": 21,
      "outputs": [
        {
          "output_type": "execute_result",
          "data": {
            "text/plain": [
              "ca    15388\n",
              "tx     7396\n",
              "ny     7318\n",
              "fl     6185\n",
              "nc     5091\n",
              "il     4350\n",
              "ga     3963\n",
              "sc     3936\n",
              "mi     3161\n",
              "pa     3109\n",
              "in     2620\n",
              "mo     2576\n",
              "oh     2467\n",
              "la     2394\n",
              "ma     2389\n",
              "wa     2334\n",
              "ok     2276\n",
              "nj     2237\n",
              "az     2147\n",
              "va     2045\n",
              "wi     1827\n",
              "al     1762\n",
              "ut     1731\n",
              "tn     1688\n",
              "ct     1663\n",
              "md     1514\n",
              "nv     1367\n",
              "ms     1323\n",
              "ky     1304\n",
              "or     1242\n",
              "mn     1208\n",
              "co     1111\n",
              "ar     1049\n",
              "id      693\n",
              "ia      666\n",
              "ks      634\n",
              "nm      557\n",
              "dc      516\n",
              "hi      507\n",
              "me      505\n",
              "wv      503\n",
              "nh      348\n",
              "ak      345\n",
              "de      343\n",
              "ne      309\n",
              "sd      300\n",
              "ri      285\n",
              "mt      245\n",
              "nd      143\n",
              "wy       98\n",
              "vt       80\n",
              "Name: school_state, dtype: int64"
            ]
          },
          "metadata": {
            "tags": []
          },
          "execution_count": 21
        }
      ]
    },
    {
      "cell_type": "markdown",
      "metadata": {
        "id": "Fdew0N2MeHno"
      },
      "source": [
        "# 7. Preprocessing Categorical Features: project_title"
      ]
    },
    {
      "cell_type": "code",
      "metadata": {
        "colab": {
          "base_uri": "https://localhost:8080/",
          "height": 271
        },
        "id": "Td4tvsbH2D0_",
        "outputId": "d1de01ec-64d5-4d5b-97a7-c78e19a8e96d"
      },
      "source": [
        "project_data.head(2)"
      ],
      "execution_count": 22,
      "outputs": [
        {
          "output_type": "execute_result",
          "data": {
            "text/html": [
              "<div>\n",
              "<style scoped>\n",
              "    .dataframe tbody tr th:only-of-type {\n",
              "        vertical-align: middle;\n",
              "    }\n",
              "\n",
              "    .dataframe tbody tr th {\n",
              "        vertical-align: top;\n",
              "    }\n",
              "\n",
              "    .dataframe thead th {\n",
              "        text-align: right;\n",
              "    }\n",
              "</style>\n",
              "<table border=\"1\" class=\"dataframe\">\n",
              "  <thead>\n",
              "    <tr style=\"text-align: right;\">\n",
              "      <th></th>\n",
              "      <th>Unnamed: 0</th>\n",
              "      <th>id</th>\n",
              "      <th>teacher_id</th>\n",
              "      <th>teacher_prefix</th>\n",
              "      <th>school_state</th>\n",
              "      <th>project_submitted_datetime</th>\n",
              "      <th>project_grade_category</th>\n",
              "      <th>project_subject_categories</th>\n",
              "      <th>project_subject_subcategories</th>\n",
              "      <th>project_title</th>\n",
              "      <th>project_essay_1</th>\n",
              "      <th>project_essay_2</th>\n",
              "      <th>project_essay_3</th>\n",
              "      <th>project_essay_4</th>\n",
              "      <th>project_resource_summary</th>\n",
              "      <th>teacher_number_of_previously_posted_projects</th>\n",
              "      <th>project_is_approved</th>\n",
              "    </tr>\n",
              "  </thead>\n",
              "  <tbody>\n",
              "    <tr>\n",
              "      <th>0</th>\n",
              "      <td>160221</td>\n",
              "      <td>p253737</td>\n",
              "      <td>c90749f5d961ff158d4b4d1e7dc665fc</td>\n",
              "      <td>mrs</td>\n",
              "      <td>in</td>\n",
              "      <td>2016-12-05 13:43:57</td>\n",
              "      <td>grades_prek_2</td>\n",
              "      <td>literacy_language</td>\n",
              "      <td>esl_literacy</td>\n",
              "      <td>Educational Support for English Learners at Home</td>\n",
              "      <td>My students are English learners that are work...</td>\n",
              "      <td>\\\"The limits of your language are the limits o...</td>\n",
              "      <td>NaN</td>\n",
              "      <td>NaN</td>\n",
              "      <td>My students need opportunities to practice beg...</td>\n",
              "      <td>0</td>\n",
              "      <td>0</td>\n",
              "    </tr>\n",
              "    <tr>\n",
              "      <th>1</th>\n",
              "      <td>140945</td>\n",
              "      <td>p258326</td>\n",
              "      <td>897464ce9ddc600bced1151f324dd63a</td>\n",
              "      <td>mr</td>\n",
              "      <td>fl</td>\n",
              "      <td>2016-10-25 09:22:10</td>\n",
              "      <td>grades_6_8</td>\n",
              "      <td>history_civics_health_sports</td>\n",
              "      <td>civics_government_teamsports</td>\n",
              "      <td>Wanted: Projector for Hungry Learners</td>\n",
              "      <td>Our students arrive to our school eager to lea...</td>\n",
              "      <td>The projector we need for our school is very c...</td>\n",
              "      <td>NaN</td>\n",
              "      <td>NaN</td>\n",
              "      <td>My students need a projector to help with view...</td>\n",
              "      <td>7</td>\n",
              "      <td>1</td>\n",
              "    </tr>\n",
              "  </tbody>\n",
              "</table>\n",
              "</div>"
            ],
            "text/plain": [
              "   Unnamed: 0  ... project_is_approved\n",
              "0      160221  ...                   0\n",
              "1      140945  ...                   1\n",
              "\n",
              "[2 rows x 17 columns]"
            ]
          },
          "metadata": {
            "tags": []
          },
          "execution_count": 22
        }
      ]
    },
    {
      "cell_type": "code",
      "metadata": {
        "id": "DprIp7y6eHno"
      },
      "source": [
        "# https://stackoverflow.com/a/47091490/4084039\n",
        "import re\n",
        "\n",
        "def decontracted(phrase):\n",
        "    # specific\n",
        "    phrase = re.sub(r\"won't\", \"will not\", phrase)\n",
        "    phrase = re.sub(r\"can\\'t\", \"can not\", phrase)\n",
        "\n",
        "    # general\n",
        "    phrase = re.sub(r\"n\\'t\", \" not\", phrase)\n",
        "    phrase = re.sub(r\"\\'re\", \" are\", phrase)\n",
        "    phrase = re.sub(r\"\\'s\", \" is\", phrase)\n",
        "    phrase = re.sub(r\"\\'d\", \" would\", phrase)\n",
        "    phrase = re.sub(r\"\\'ll\", \" will\", phrase)\n",
        "    phrase = re.sub(r\"\\'t\", \" not\", phrase)\n",
        "    phrase = re.sub(r\"\\'ve\", \" have\", phrase)\n",
        "    phrase = re.sub(r\"\\'m\", \" am\", phrase)\n",
        "    return phrase"
      ],
      "execution_count": 23,
      "outputs": []
    },
    {
      "cell_type": "code",
      "metadata": {
        "id": "VmwuGT-yeHno"
      },
      "source": [
        "# https://gist.github.com/sebleier/554280\n",
        "# we are removing the words from the stop words list: 'no', 'nor', 'not'\n",
        "stopwords= ['i', 'me', 'my', 'myself', 'we', 'our', 'ours', 'ourselves', 'you', \"you're\", \"you've\",\\\n",
        "            \"you'll\", \"you'd\", 'your', 'yours', 'yourself', 'yourselves', 'he', 'him', 'his', 'himself', \\\n",
        "            'she', \"she's\", 'her', 'hers', 'herself', 'it', \"it's\", 'its', 'itself', 'they', 'them', 'their',\\\n",
        "            'theirs', 'themselves', 'what', 'which', 'who', 'whom', 'this', 'that', \"that'll\", 'these', 'those', \\\n",
        "            'am', 'is', 'are', 'was', 'were', 'be', 'been', 'being', 'have', 'has', 'had', 'having', 'do', 'does', \\\n",
        "            'did', 'doing', 'a', 'an', 'the', 'and', 'but', 'if', 'or', 'because', 'as', 'until', 'while', 'of', \\\n",
        "            'at', 'by', 'for', 'with', 'about', 'against', 'between', 'into', 'through', 'during', 'before', 'after',\\\n",
        "            'above', 'below', 'to', 'from', 'up', 'down', 'in', 'out', 'on', 'off', 'over', 'under', 'again', 'further',\\\n",
        "            'then', 'once', 'here', 'there', 'when', 'where', 'why', 'how', 'all', 'any', 'both', 'each', 'few', 'more',\\\n",
        "            'most', 'other', 'some', 'such', 'only', 'own', 'same', 'so', 'than', 'too', 'very', \\\n",
        "            's', 't', 'can', 'will', 'just', 'don', \"don't\", 'should', \"should've\", 'now', 'd', 'll', 'm', 'o', 're', \\\n",
        "            've', 'y', 'ain', 'aren', \"aren't\", 'couldn', \"couldn't\", 'didn', \"didn't\", 'doesn', \"doesn't\", 'hadn',\\\n",
        "            \"hadn't\", 'hasn', \"hasn't\", 'haven', \"haven't\", 'isn', \"isn't\", 'ma', 'mightn', \"mightn't\", 'mustn',\\\n",
        "            \"mustn't\", 'needn', \"needn't\", 'shan', \"shan't\", 'shouldn', \"shouldn't\", 'wasn', \"wasn't\", 'weren', \"weren't\", \\\n",
        "            'won', \"won't\", 'wouldn', \"wouldn't\"]"
      ],
      "execution_count": 24,
      "outputs": []
    },
    {
      "cell_type": "code",
      "metadata": {
        "id": "mUeRErJ3eHno",
        "colab": {
          "base_uri": "https://localhost:8080/"
        },
        "outputId": "38df7383-9d00-4c1d-e3d6-11fda91680fe"
      },
      "source": [
        "project_data['project_title'].head(5)  "
      ],
      "execution_count": 25,
      "outputs": [
        {
          "output_type": "execute_result",
          "data": {
            "text/plain": [
              "0     Educational Support for English Learners at Home\n",
              "1                Wanted: Projector for Hungry Learners\n",
              "2    Soccer Equipment for AWESOME Middle School Stu...\n",
              "3                               Techie Kindergarteners\n",
              "4                               Interactive Math Tools\n",
              "Name: project_title, dtype: object"
            ]
          },
          "metadata": {
            "tags": []
          },
          "execution_count": 25
        }
      ]
    },
    {
      "cell_type": "code",
      "metadata": {
        "id": "efO-4VtmeHno",
        "colab": {
          "base_uri": "https://localhost:8080/"
        },
        "outputId": "455daf4e-7153-4212-c7f3-a2d4706e7b27"
      },
      "source": [
        "print(\"printing some random reviews\")\n",
        "print(9, project_data['project_title'].values[9])\n",
        "print(34, project_data['project_title'].values[34])\n",
        "print(147, project_data['project_title'].values[147])"
      ],
      "execution_count": 26,
      "outputs": [
        {
          "output_type": "stream",
          "text": [
            "printing some random reviews\n",
            "9 Just For the Love of Reading--\\r\\nPure Pleasure\n",
            "34 \\\"Have A Ball!!!\\\"\n",
            "147 Who needs a Chromebook?\\r\\nWE DO!!\n"
          ],
          "name": "stdout"
        }
      ]
    },
    {
      "cell_type": "code",
      "metadata": {
        "colab": {
          "base_uri": "https://localhost:8080/",
          "height": 36
        },
        "id": "6-JoYLyW5SEC",
        "outputId": "b7ca3da1-7334-41db-f211-15bbe424a41c"
      },
      "source": [
        "project_data['project_title'].values[9]"
      ],
      "execution_count": 27,
      "outputs": [
        {
          "output_type": "execute_result",
          "data": {
            "application/vnd.google.colaboratory.intrinsic+json": {
              "type": "string"
            },
            "text/plain": [
              "'Just For the Love of Reading--\\\\r\\\\nPure Pleasure'"
            ]
          },
          "metadata": {
            "tags": []
          },
          "execution_count": 27
        }
      ]
    },
    {
      "cell_type": "code",
      "metadata": {
        "id": "gQaLBJCjeHno"
      },
      "source": [
        "# Combining all the above stundents \n",
        "from tqdm import tqdm\n",
        "def preprocess_text(text_data):\n",
        "    preprocessed_text = []\n",
        "    # tqdm is for printing the status bar\n",
        "    for sentance in tqdm(text_data):\n",
        "        sent = decontracted(sentance)\n",
        "        sent = sent.replace('\\\\r', ' ')\n",
        "        sent = sent.replace('\\\\n', ' ')\n",
        "        sent = sent.replace('\\\\\"', ' ')\n",
        "        sent = re.sub('[^A-Za-z0-9]+', ' ', sent)\n",
        "        sent = re.sub(\"\\d+\", \"\", sent)\n",
        "        # https://gist.github.com/sebleier/554280\n",
        "        sent = ' '.join(e for e in sent.split() if e.lower() not in stopwords)\n",
        "        preprocessed_text.append(sent.lower().strip())\n",
        "    return preprocessed_text"
      ],
      "execution_count": 28,
      "outputs": []
    },
    {
      "cell_type": "code",
      "metadata": {
        "id": "MrHRJRaAeHno",
        "colab": {
          "base_uri": "https://localhost:8080/"
        },
        "outputId": "be53eba1-25bf-40fa-91fc-3222a1de0fda"
      },
      "source": [
        "preprocessed_titles = preprocess_text(project_data['project_title'].values)"
      ],
      "execution_count": 29,
      "outputs": [
        {
          "output_type": "stream",
          "text": [
            "100%|██████████| 109248/109248 [00:03<00:00, 30127.18it/s]\n"
          ],
          "name": "stderr"
        }
      ]
    },
    {
      "cell_type": "code",
      "metadata": {
        "id": "T0rjBHhieHnp",
        "colab": {
          "base_uri": "https://localhost:8080/"
        },
        "outputId": "fe5a27c3-0a80-4dde-9e60-451143fd953d"
      },
      "source": [
        "print(\"printing some random reviews\")\n",
        "print(9, preprocessed_titles[9])\n",
        "print(34, preprocessed_titles[34])\n",
        "print(147, preprocessed_titles[147])"
      ],
      "execution_count": 30,
      "outputs": [
        {
          "output_type": "stream",
          "text": [
            "printing some random reviews\n",
            "9 love reading pure pleasure\n",
            "34 ball\n",
            "147 needs chromebook\n"
          ],
          "name": "stdout"
        }
      ]
    },
    {
      "cell_type": "markdown",
      "metadata": {
        "id": "GKRnYNPZeHnp"
      },
      "source": [
        "# 8. Preprocessing Categorical Features: essay"
      ]
    },
    {
      "cell_type": "code",
      "metadata": {
        "id": "R9FXIhNaeHnp"
      },
      "source": [
        "# merge two column text dataframe: \n",
        "project_data[\"essay\"] = project_data[\"project_essay_1\"].map(str) +\\\n",
        "                        project_data[\"project_essay_2\"].map(str) + \\\n",
        "                        project_data[\"project_essay_3\"].map(str) + \\\n",
        "                        project_data[\"project_essay_4\"].map(str)"
      ],
      "execution_count": 31,
      "outputs": []
    },
    {
      "cell_type": "code",
      "metadata": {
        "scrolled": true,
        "id": "C1zK6Uh6eHnp",
        "colab": {
          "base_uri": "https://localhost:8080/"
        },
        "outputId": "75ef830f-52dc-467c-e4d3-c17cfea5fee7"
      },
      "source": [
        "print(\"printing some random essay\")\n",
        "print(9, project_data['essay'].values[9])\n",
        "print('-'*50)\n",
        "print(34, project_data['essay'].values[34])\n",
        "print('-'*50)\n",
        "print(147, project_data['essay'].values[147])"
      ],
      "execution_count": 32,
      "outputs": [
        {
          "output_type": "stream",
          "text": [
            "printing some random essay\n",
            "9 Over 95% of my students are on free or reduced lunch.  I have a few who are homeless, but despite that, they come to school with an eagerness to learn.  My students are inquisitive eager learners who  embrace the challenge of not having great books and other resources  every day.  Many of them are not afforded the opportunity to engage with these big colorful pages of a book on a regular basis at home and they don't travel to the public library.  \\r\\nIt is my duty as a teacher to do all I can to provide each student an opportunity to succeed in every aspect of life. \\r\\nReading is Fundamental! My students will read these books over and over again while boosting their comprehension skills. These books will be used for read alouds, partner reading and for Independent reading. \\r\\nThey will engage in reading to build their \\\"Love for Reading\\\" by reading for pure enjoyment. They will be introduced to some new authors as well as some old favorites. I want my students to be ready for the 21st Century and know the pleasure of holding a good hard back book in hand. There's nothing like a good book to read!  \\r\\nMy students will soar in Reading, and more because of your consideration and generous funding contribution. This will help build stamina and prepare for 3rd grade. Thank you so much for reading our proposal!nannan\n",
            "--------------------------------------------------\n",
            "34 My students mainly come from extremely low-income families, and the majority of them come from homes where both parents work full time. Most of my students are at school from 7:30 am to 6:00 pm (2:30 to 6:00 pm in the after-school program), and they all receive free and reduced meals for breakfast and lunch. \\r\\n\\r\\n\\r\\nI want my students to feel  as comfortable in my classroom as they do at home. Many of my students take on multiple roles both at home as well as in school. They are sometimes the caretakers of younger siblings, cooks, babysitters, academics, friends, and most of all, they are developing who they are going to become as adults.  I consider it an essential part of my job to model helping others gain knowledge in a positive manner. As a result, I have a community of students who love helping each other in and outside of the classroom. They consistently look for opportunities to support each other's learning in a kind and helpful way.I am excited to be experimenting with alternative seating in my classroom this school year. Studies have shown that giving students the option of where they sit in a classroom increases focus as well as motivation.  \\r\\n\\r\\nBy allowing students choice in the classroom, they are able to explore and create in a welcoming environment. Alternative classroom seating has been experimented with more frequently in recent years. I believe (along with many others), that every child learns differently. This does not only apply to how multiplication is memorized, or a paper is written, but applies to the space in which they are asked to work. I have had students in the past ask \\\"Can I work in the library? Can I work on the carpet?\\\" My answer was always, \\\"As long as you're learning, you can work wherever you want!\\\" \\r\\n\\r\\nWith the yoga balls and the lap-desks, I will be able to increase the options for seating in my classroom and expand its imaginable space.nannan\n",
            "--------------------------------------------------\n",
            "147 My students are eager to learn and make their mark on the world.\\r\\n\\r\\nThey come from a Title 1 school and need extra love.\\r\\n\\r\\nMy fourth grade students are in a high poverty area and still come to school every day to get their education. I am trying to make it fun and educational for them so they can get the most out of their schooling. I created a caring environment for the students to bloom! They deserve the best.\\r\\nThank you!\\r\\nI am requesting 1 Chromebook to access online interventions, differentiate instruction, and get extra practice. The Chromebook will be used to supplement ELA and math instruction. Students will play ELA and math games that are engaging and fun, as well as participate in assignments online. This in turn will help my students improve their skills. Having a Chromebook in the classroom would not only allow students to use the programs at their own pace, but would ensure more students are getting adequate time to use the programs. The online programs have been especially beneficial to my students with special needs. They are able to work at their level as well as be challenged with some different materials. This is making these students more confident in their abilities.\\r\\n\\r\\nThe Chromebook would allow my students to have daily access to computers and increase their computing skills.\\r\\nThis will change their lives for the better as they become more successful in school. Having access to technology in the classroom would help bridge the achievement gap.nannan\n"
          ],
          "name": "stdout"
        }
      ]
    },
    {
      "cell_type": "code",
      "metadata": {
        "id": "5rfBObsoeHnp",
        "colab": {
          "base_uri": "https://localhost:8080/"
        },
        "outputId": "c6272c76-a604-4b79-97cf-59694c523539"
      },
      "source": [
        "preprocessed_essays = preprocess_text(project_data['essay'].values)"
      ],
      "execution_count": 33,
      "outputs": [
        {
          "output_type": "stream",
          "text": [
            "100%|██████████| 109248/109248 [01:23<00:00, 1301.05it/s]\n"
          ],
          "name": "stderr"
        }
      ]
    },
    {
      "cell_type": "code",
      "metadata": {
        "scrolled": true,
        "id": "RyIzUclbeHnp",
        "colab": {
          "base_uri": "https://localhost:8080/"
        },
        "outputId": "52b45002-bf22-4d19-eeaf-aa494433750b"
      },
      "source": [
        "print(\"printing some random essay\")\n",
        "print(9, preprocessed_essays[9])\n",
        "print('-'*50)\n",
        "print(34, preprocessed_essays[34])\n",
        "print('-'*50)\n",
        "print(147, preprocessed_essays[147])"
      ],
      "execution_count": 34,
      "outputs": [
        {
          "output_type": "stream",
          "text": [
            "printing some random essay\n",
            "9 students free reduced lunch homeless despite come school eagerness learn students inquisitive eager learners embrace challenge not great books resources every day many not afforded opportunity engage big colorful pages book regular basis home not travel public library duty teacher provide student opportunity succeed every aspect life reading fundamental students read books boosting comprehension skills books used read alouds partner reading independent reading engage reading build love reading reading pure enjoyment introduced new authors well old favorites want students ready st century know pleasure holding good hard back book hand nothing like good book read students soar reading consideration generous funding contribution help build stamina prepare rd grade thank much reading proposal nannan\n",
            "--------------------------------------------------\n",
            "34 students mainly come extremely low income families majority come homes parents work full time students school pm pm school program receive free reduced meals breakfast lunch want students feel comfortable classroom home many students take multiple roles home well school sometimes caretakers younger siblings cooks babysitters academics friends developing going become adults consider essential part job model helping others gain knowledge positive manner result community students love helping outside classroom consistently look opportunities support learning kind helpful way excited experimenting alternative seating classroom school year studies shown giving students option sit classroom increases focus well motivation allowing students choice classroom able explore create welcoming environment alternative classroom seating experimented frequently recent years believe along many others every child learns differently not apply multiplication memorized paper written applies space asked work students past ask work library work carpet answer always long learning work wherever want yoga balls lap desks able increase options seating classroom expand imaginable space nannan\n",
            "--------------------------------------------------\n",
            "147 students eager learn make mark world come title school need extra love fourth grade students high poverty area still come school every day get education trying make fun educational get schooling created caring environment students bloom deserve best thank requesting chromebook access online interventions differentiate instruction get extra practice chromebook used supplement ela math instruction students play ela math games engaging fun well participate assignments online turn help students improve skills chromebook classroom would not allow students use programs pace would ensure students getting adequate time use programs online programs especially beneficial students special needs able work level well challenged different materials making students confident abilities chromebook would allow students daily access computers increase computing skills change lives better become successful school access technology classroom would help bridge achievement gap nannan\n"
          ],
          "name": "stdout"
        }
      ]
    },
    {
      "cell_type": "markdown",
      "metadata": {
        "id": "QXR6JaRleHnp"
      },
      "source": [
        "# 8. Preprocessing Numerical Values: price"
      ]
    },
    {
      "cell_type": "code",
      "metadata": {
        "id": "GJNfntAxeHnp",
        "colab": {
          "base_uri": "https://localhost:8080/",
          "height": 112
        },
        "outputId": "39ea99b3-ef3b-4db4-a10e-c9169c245ee7"
      },
      "source": [
        "# https://stackoverflow.com/questions/22407798/how-to-reset-a-dataframes-indexes-for-all-groups-in-one-step\n",
        "price_data = resource_data.groupby('id').agg({'price':'sum', 'quantity':'sum'}).reset_index()\n",
        "price_data.head(2)"
      ],
      "execution_count": 35,
      "outputs": [
        {
          "output_type": "execute_result",
          "data": {
            "text/html": [
              "<div>\n",
              "<style scoped>\n",
              "    .dataframe tbody tr th:only-of-type {\n",
              "        vertical-align: middle;\n",
              "    }\n",
              "\n",
              "    .dataframe tbody tr th {\n",
              "        vertical-align: top;\n",
              "    }\n",
              "\n",
              "    .dataframe thead th {\n",
              "        text-align: right;\n",
              "    }\n",
              "</style>\n",
              "<table border=\"1\" class=\"dataframe\">\n",
              "  <thead>\n",
              "    <tr style=\"text-align: right;\">\n",
              "      <th></th>\n",
              "      <th>id</th>\n",
              "      <th>price</th>\n",
              "      <th>quantity</th>\n",
              "    </tr>\n",
              "  </thead>\n",
              "  <tbody>\n",
              "    <tr>\n",
              "      <th>0</th>\n",
              "      <td>p000001</td>\n",
              "      <td>459.56</td>\n",
              "      <td>7</td>\n",
              "    </tr>\n",
              "    <tr>\n",
              "      <th>1</th>\n",
              "      <td>p000002</td>\n",
              "      <td>515.89</td>\n",
              "      <td>21</td>\n",
              "    </tr>\n",
              "  </tbody>\n",
              "</table>\n",
              "</div>"
            ],
            "text/plain": [
              "        id   price  quantity\n",
              "0  p000001  459.56         7\n",
              "1  p000002  515.89        21"
            ]
          },
          "metadata": {
            "tags": []
          },
          "execution_count": 35
        }
      ]
    },
    {
      "cell_type": "code",
      "metadata": {
        "id": "IvppcHkOeHnp"
      },
      "source": [
        "# join two dataframes in python: \n",
        "project_data = pd.merge(project_data, price_data, on='id', how='left')"
      ],
      "execution_count": 36,
      "outputs": []
    },
    {
      "cell_type": "code",
      "metadata": {
        "id": "AAeVNmtLeHnp",
        "colab": {
          "base_uri": "https://localhost:8080/"
        },
        "outputId": "6b11fde6-aaa6-4de6-ed75-f7e009c106d9"
      },
      "source": [
        "project_data['price'].head()"
      ],
      "execution_count": 37,
      "outputs": [
        {
          "output_type": "execute_result",
          "data": {
            "text/plain": [
              "0    154.60\n",
              "1    299.00\n",
              "2    516.85\n",
              "3    232.90\n",
              "4     67.98\n",
              "Name: price, dtype: float64"
            ]
          },
          "metadata": {
            "tags": []
          },
          "execution_count": 37
        }
      ]
    },
    {
      "cell_type": "markdown",
      "metadata": {
        "id": "NUEhP9wdeHnp"
      },
      "source": [
        "## 8.1 applying StandardScaler"
      ]
    },
    {
      "cell_type": "code",
      "metadata": {
        "id": "fWHOQid7eHnp"
      },
      "source": [
        "from sklearn.preprocessing import StandardScaler\n",
        "scaler = StandardScaler()\n",
        "scaler.fit(project_data['price'].values.reshape(-1, 1))\n",
        "project_data['std_price']=scaler.transform(project_data['price'].values.reshape(-1, 1) )"
      ],
      "execution_count": 38,
      "outputs": []
    },
    {
      "cell_type": "code",
      "metadata": {
        "scrolled": true,
        "id": "LdBcVILVeHnp",
        "colab": {
          "base_uri": "https://localhost:8080/"
        },
        "outputId": "14d6b2c8-d250-4bcc-d9a9-e2fa2f5cba34"
      },
      "source": [
        "project_data['std_price'].head()"
      ],
      "execution_count": 39,
      "outputs": [
        {
          "output_type": "execute_result",
          "data": {
            "text/plain": [
              "0   -0.390533\n",
              "1    0.002396\n",
              "2    0.595191\n",
              "3   -0.177469\n",
              "4   -0.626236\n",
              "Name: std_price, dtype: float64"
            ]
          },
          "metadata": {
            "tags": []
          },
          "execution_count": 39
        }
      ]
    },
    {
      "cell_type": "markdown",
      "metadata": {
        "id": "uHIW1hqMeHnp"
      },
      "source": [
        "## 8.2 applying MinMaxScaler"
      ]
    },
    {
      "cell_type": "code",
      "metadata": {
        "id": "HIK2TFZHeHnp"
      },
      "source": [
        "from sklearn.preprocessing import MinMaxScaler\n",
        "\n",
        "scaler = MinMaxScaler()\n",
        "scaler.fit(project_data['price'].values.reshape(-1, 1))\n",
        "project_data['nrm_price']=scaler.transform(project_data['price'].values.reshape(-1, 1))"
      ],
      "execution_count": 40,
      "outputs": []
    },
    {
      "cell_type": "code",
      "metadata": {
        "id": "8TF2eiskeHnp",
        "colab": {
          "base_uri": "https://localhost:8080/"
        },
        "outputId": "6eeb3359-247c-48ec-85dd-d329572c0550"
      },
      "source": [
        "project_data['nrm_price'].head()"
      ],
      "execution_count": 41,
      "outputs": [
        {
          "output_type": "execute_result",
          "data": {
            "text/plain": [
              "0    0.015397\n",
              "1    0.029839\n",
              "2    0.051628\n",
              "3    0.023228\n",
              "4    0.006733\n",
              "Name: nrm_price, dtype: float64"
            ]
          },
          "metadata": {
            "tags": []
          },
          "execution_count": 41
        }
      ]
    },
    {
      "cell_type": "code",
      "metadata": {
        "colab": {
          "base_uri": "https://localhost:8080/",
          "height": 358
        },
        "id": "lDHu3nWA8biA",
        "outputId": "5cc5ac3e-0fe0-47b1-e5d2-cab82c3cae2f"
      },
      "source": [
        "project_data.head(2)"
      ],
      "execution_count": 42,
      "outputs": [
        {
          "output_type": "execute_result",
          "data": {
            "text/html": [
              "<div>\n",
              "<style scoped>\n",
              "    .dataframe tbody tr th:only-of-type {\n",
              "        vertical-align: middle;\n",
              "    }\n",
              "\n",
              "    .dataframe tbody tr th {\n",
              "        vertical-align: top;\n",
              "    }\n",
              "\n",
              "    .dataframe thead th {\n",
              "        text-align: right;\n",
              "    }\n",
              "</style>\n",
              "<table border=\"1\" class=\"dataframe\">\n",
              "  <thead>\n",
              "    <tr style=\"text-align: right;\">\n",
              "      <th></th>\n",
              "      <th>Unnamed: 0</th>\n",
              "      <th>id</th>\n",
              "      <th>teacher_id</th>\n",
              "      <th>teacher_prefix</th>\n",
              "      <th>school_state</th>\n",
              "      <th>project_submitted_datetime</th>\n",
              "      <th>project_grade_category</th>\n",
              "      <th>project_subject_categories</th>\n",
              "      <th>project_subject_subcategories</th>\n",
              "      <th>project_title</th>\n",
              "      <th>project_essay_1</th>\n",
              "      <th>project_essay_2</th>\n",
              "      <th>project_essay_3</th>\n",
              "      <th>project_essay_4</th>\n",
              "      <th>project_resource_summary</th>\n",
              "      <th>teacher_number_of_previously_posted_projects</th>\n",
              "      <th>project_is_approved</th>\n",
              "      <th>essay</th>\n",
              "      <th>price</th>\n",
              "      <th>quantity</th>\n",
              "      <th>std_price</th>\n",
              "      <th>nrm_price</th>\n",
              "    </tr>\n",
              "  </thead>\n",
              "  <tbody>\n",
              "    <tr>\n",
              "      <th>0</th>\n",
              "      <td>160221</td>\n",
              "      <td>p253737</td>\n",
              "      <td>c90749f5d961ff158d4b4d1e7dc665fc</td>\n",
              "      <td>mrs</td>\n",
              "      <td>in</td>\n",
              "      <td>2016-12-05 13:43:57</td>\n",
              "      <td>grades_prek_2</td>\n",
              "      <td>literacy_language</td>\n",
              "      <td>esl_literacy</td>\n",
              "      <td>Educational Support for English Learners at Home</td>\n",
              "      <td>My students are English learners that are work...</td>\n",
              "      <td>\\\"The limits of your language are the limits o...</td>\n",
              "      <td>NaN</td>\n",
              "      <td>NaN</td>\n",
              "      <td>My students need opportunities to practice beg...</td>\n",
              "      <td>0</td>\n",
              "      <td>0</td>\n",
              "      <td>My students are English learners that are work...</td>\n",
              "      <td>154.6</td>\n",
              "      <td>23</td>\n",
              "      <td>-0.390533</td>\n",
              "      <td>0.015397</td>\n",
              "    </tr>\n",
              "    <tr>\n",
              "      <th>1</th>\n",
              "      <td>140945</td>\n",
              "      <td>p258326</td>\n",
              "      <td>897464ce9ddc600bced1151f324dd63a</td>\n",
              "      <td>mr</td>\n",
              "      <td>fl</td>\n",
              "      <td>2016-10-25 09:22:10</td>\n",
              "      <td>grades_6_8</td>\n",
              "      <td>history_civics_health_sports</td>\n",
              "      <td>civics_government_teamsports</td>\n",
              "      <td>Wanted: Projector for Hungry Learners</td>\n",
              "      <td>Our students arrive to our school eager to lea...</td>\n",
              "      <td>The projector we need for our school is very c...</td>\n",
              "      <td>NaN</td>\n",
              "      <td>NaN</td>\n",
              "      <td>My students need a projector to help with view...</td>\n",
              "      <td>7</td>\n",
              "      <td>1</td>\n",
              "      <td>Our students arrive to our school eager to lea...</td>\n",
              "      <td>299.0</td>\n",
              "      <td>1</td>\n",
              "      <td>0.002396</td>\n",
              "      <td>0.029839</td>\n",
              "    </tr>\n",
              "  </tbody>\n",
              "</table>\n",
              "</div>"
            ],
            "text/plain": [
              "   Unnamed: 0       id  ... std_price nrm_price\n",
              "0      160221  p253737  ... -0.390533  0.015397\n",
              "1      140945  p258326  ...  0.002396  0.029839\n",
              "\n",
              "[2 rows x 22 columns]"
            ]
          },
          "metadata": {
            "tags": []
          },
          "execution_count": 42
        }
      ]
    },
    {
      "cell_type": "code",
      "metadata": {
        "id": "OgejyV-H8ewx"
      },
      "source": [
        ""
      ],
      "execution_count": null,
      "outputs": []
    }
  ]
}