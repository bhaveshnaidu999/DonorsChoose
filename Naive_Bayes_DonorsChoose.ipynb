{
 "cells": [
  {
   "cell_type": "markdown",
   "metadata": {
    "id": "Dnubs-Nnb3cw"
   },
   "source": [
    "# Applying Naive Bayes"
   ]
  },
  {
   "cell_type": "markdown",
   "metadata": {
    "id": "inzYCIaib3c3"
   },
   "source": [
    "## <h> Naive Bayes </h1>"
   ]
  },
  {
   "cell_type": "markdown",
   "metadata": {
    "id": "OIcRjpOJxjHD"
   },
   "source": [
    "We will be using Naive Bayes for the text classification task at hand. Naive Bayes is simple yet a powerfull algorithm for text classification tasks. It uses probability of the events for its purpose. It is based on the Bayes Theorem which assumes that there is no interdependence amongst the variables. \n",
    "You can read more about it from [here](https://analyticsindiamag.com/naive-bayes-why-is-it-favoured-for-text-related-tasks/) "
   ]
  },
  {
   "cell_type": "markdown",
   "metadata": {
    "id": "MR-oUcUa0JDh"
   },
   "source": [
    "We will create two sets and train the naive bayes model on both of them\n",
    "   \n",
    "* Set 1: categorical, numerical features + preprocessed_eassay (BOW)\n",
    "* Set 2: categorical, numerical features + preprocessed_eassay (TFIDF)"
   ]
  },
  {
   "cell_type": "code",
   "execution_count": 2,
   "metadata": {
    "id": "D7BQtlwLg7Fl"
   },
   "outputs": [],
   "source": [
    "%matplotlib inline\n",
    "import warnings\n",
    "warnings.filterwarnings(\"ignore\")\n",
    "\n",
    "from tqdm import tqdm\n",
    "import pandas as pd \n",
    "import numpy as np\n",
    "import matplotlib.pyplot as plt\n",
    "import seaborn as sns\n",
    "\n",
    "# library for splitting the dataset\n",
    "from sklearn.model_selection import train_test_split\n",
    "\n",
    "# libraries for featurization  \n",
    "from sklearn.feature_extraction.text import TfidfVectorizer\n",
    "from sklearn.feature_extraction.text import CountVectorizer\n",
    "from sklearn.preprocessing import Normalizer\n",
    "\n",
    "# library for modeling \n",
    "from sklearn.naive_bayes import MultinomialNB\n",
    "\n",
    "#  library for hyperparameter tuning\n",
    "from sklearn.model_selection import GridSearchCV\n",
    "\n",
    "# libraries for evaluation of model \n",
    "from sklearn.metrics import confusion_matrix\n",
    "from sklearn import metrics\n",
    "from sklearn.metrics import roc_curve, auc"
   ]
  },
  {
   "cell_type": "markdown",
   "metadata": {
    "id": "FYqCIxzFb3c5"
   },
   "source": [
    "## 1.1 Loading Data"
   ]
  },
  {
   "cell_type": "code",
   "execution_count": 3,
   "metadata": {
    "colab": {
     "base_uri": "https://localhost:8080/",
     "height": 206
    },
    "id": "dA1jknyqb3c_",
    "outputId": "bdf6c4b3-46cb-4b9d-90c5-8e32af6df2ea"
   },
   "outputs": [
    {
     "data": {
      "text/html": [
       "<div>\n",
       "<style scoped>\n",
       "    .dataframe tbody tr th:only-of-type {\n",
       "        vertical-align: middle;\n",
       "    }\n",
       "\n",
       "    .dataframe tbody tr th {\n",
       "        vertical-align: top;\n",
       "    }\n",
       "\n",
       "    .dataframe thead th {\n",
       "        text-align: right;\n",
       "    }\n",
       "</style>\n",
       "<table border=\"1\" class=\"dataframe\">\n",
       "  <thead>\n",
       "    <tr style=\"text-align: right;\">\n",
       "      <th></th>\n",
       "      <th>school_state</th>\n",
       "      <th>teacher_prefix</th>\n",
       "      <th>project_grade_category</th>\n",
       "      <th>teacher_number_of_previously_posted_projects</th>\n",
       "      <th>project_is_approved</th>\n",
       "      <th>clean_categories</th>\n",
       "      <th>clean_subcategories</th>\n",
       "      <th>essay</th>\n",
       "      <th>price</th>\n",
       "    </tr>\n",
       "  </thead>\n",
       "  <tbody>\n",
       "    <tr>\n",
       "      <th>0</th>\n",
       "      <td>ca</td>\n",
       "      <td>mrs</td>\n",
       "      <td>grades_prek_2</td>\n",
       "      <td>53</td>\n",
       "      <td>1</td>\n",
       "      <td>math_science</td>\n",
       "      <td>appliedsciences health_lifescience</td>\n",
       "      <td>i fortunate enough use fairy tale stem kits cl...</td>\n",
       "      <td>725.05</td>\n",
       "    </tr>\n",
       "    <tr>\n",
       "      <th>1</th>\n",
       "      <td>ut</td>\n",
       "      <td>ms</td>\n",
       "      <td>grades_3_5</td>\n",
       "      <td>4</td>\n",
       "      <td>1</td>\n",
       "      <td>specialneeds</td>\n",
       "      <td>specialneeds</td>\n",
       "      <td>imagine 8 9 years old you third grade classroo...</td>\n",
       "      <td>213.03</td>\n",
       "    </tr>\n",
       "    <tr>\n",
       "      <th>2</th>\n",
       "      <td>ca</td>\n",
       "      <td>mrs</td>\n",
       "      <td>grades_prek_2</td>\n",
       "      <td>10</td>\n",
       "      <td>1</td>\n",
       "      <td>literacy_language</td>\n",
       "      <td>literacy</td>\n",
       "      <td>having class 24 students comes diverse learner...</td>\n",
       "      <td>329.00</td>\n",
       "    </tr>\n",
       "    <tr>\n",
       "      <th>3</th>\n",
       "      <td>ga</td>\n",
       "      <td>mrs</td>\n",
       "      <td>grades_prek_2</td>\n",
       "      <td>2</td>\n",
       "      <td>1</td>\n",
       "      <td>appliedlearning</td>\n",
       "      <td>earlydevelopment</td>\n",
       "      <td>i recently read article giving students choice...</td>\n",
       "      <td>481.04</td>\n",
       "    </tr>\n",
       "    <tr>\n",
       "      <th>4</th>\n",
       "      <td>wa</td>\n",
       "      <td>mrs</td>\n",
       "      <td>grades_3_5</td>\n",
       "      <td>2</td>\n",
       "      <td>1</td>\n",
       "      <td>literacy_language</td>\n",
       "      <td>literacy</td>\n",
       "      <td>my students crave challenge eat obstacles brea...</td>\n",
       "      <td>17.74</td>\n",
       "    </tr>\n",
       "  </tbody>\n",
       "</table>\n",
       "</div>"
      ],
      "text/plain": [
       "  school_state  ...   price\n",
       "0           ca  ...  725.05\n",
       "1           ut  ...  213.03\n",
       "2           ca  ...  329.00\n",
       "3           ga  ...  481.04\n",
       "4           wa  ...   17.74\n",
       "\n",
       "[5 rows x 9 columns]"
      ]
     },
     "execution_count": 3,
     "metadata": {
      "tags": []
     },
     "output_type": "execute_result"
    }
   ],
   "source": [
    "import pandas\n",
    "data = pandas.read_csv('preprocessed_data.csv')\n",
    "data.head()"
   ]
  },
  {
   "cell_type": "markdown",
   "metadata": {
    "id": "WtVV13Fyb3dH"
   },
   "source": [
    "<h2>1.2 Splitting data into Train and cross validation(or test): Stratified Sampling</h2>"
   ]
  },
  {
   "cell_type": "code",
   "execution_count": 4,
   "metadata": {
    "id": "i-PyprDNb3dI"
   },
   "outputs": [],
   "source": [
    "# seperating the class column from the dataset\n",
    "y = data['project_is_approved'].values\n",
    "X = data.drop(['project_is_approved'], axis=1)\n",
    "\n",
    "# splitting the data and class labels in to train set and test set  \n",
    "X_train, X_test, y_train, y_test = train_test_split(X, y, test_size=0.33, stratify=y)"
   ]
  },
  {
   "cell_type": "code",
   "execution_count": 5,
   "metadata": {
    "colab": {
     "base_uri": "https://localhost:8080/"
    },
    "id": "VYEjlfL3mBkZ",
    "outputId": "387d8d0c-5afb-4b92-92e1-4baa066e1bd6"
   },
   "outputs": [
    {
     "name": "stdout",
     "output_type": "stream",
     "text": [
      "train data shape (73196, 8)\n",
      "train data labels shape  (73196,)\n",
      "test data shape (36052, 8)\n",
      "test data labels shape (36052,)\n"
     ]
    }
   ],
   "source": [
    "print('train data shape',X_train.shape)\n",
    "print('train data labels shape ',y_train.shape)\n",
    "print('test data shape',X_test.shape)\n",
    "print('test data labels shape',y_test.shape)"
   ]
  },
  {
   "cell_type": "markdown",
   "metadata": {
    "id": "EnZwVNULb3dO"
   },
   "source": [
    "<h2>1.3 Make Data Model Ready: encoding eassay, and project_title</h2>"
   ]
  },
  {
   "cell_type": "markdown",
   "metadata": {
    "id": "qOZf-E5Tp3bt"
   },
   "source": [
    "#### BOW for essay"
   ]
  },
  {
   "cell_type": "code",
   "execution_count": 6,
   "metadata": {
    "colab": {
     "base_uri": "https://localhost:8080/"
    },
    "id": "-SczZKiab3dR",
    "outputId": "0109f3ae-6aaa-451b-a29c-48beb01e9b84"
   },
   "outputs": [
    {
     "name": "stdout",
     "output_type": "stream",
     "text": [
      "After vectorizations using BOW\n",
      "(73196, 5000) (73196,)\n",
      "(36052, 5000) (36052,)\n"
     ]
    }
   ],
   "source": [
    "# calling the CountVectorizer class with three parameters \n",
    "vectorizer_bow = CountVectorizer(min_df=10, ngram_range=(1,4), max_features=5000)\n",
    "vectorizer_bow.fit(X_train['essay'].values) # fitting the model with train data\n",
    "\n",
    "# we use the fitted CountVectorizer to convert the text to vector\n",
    "X_train_essay_bow = vectorizer_bow.transform(X_train['essay'].values)\n",
    "X_test_essay_bow = vectorizer_bow.transform(X_test['essay'].values)\n",
    "\n",
    "# getting the features of bow vectorization \n",
    "features_bow = vectorizer_bow.get_feature_names() # we will be using this afterwords \n",
    "\n",
    "print(\"After vectorizations using BOW\")\n",
    "print(X_train_essay_bow.shape, y_train.shape)\n",
    "print(X_test_essay_bow.shape, y_test.shape)"
   ]
  },
  {
   "cell_type": "markdown",
   "metadata": {
    "id": "ry-2GY2Np62d"
   },
   "source": [
    "#### tf-idf for essay"
   ]
  },
  {
   "cell_type": "code",
   "execution_count": 7,
   "metadata": {
    "colab": {
     "base_uri": "https://localhost:8080/"
    },
    "id": "KGQRprazqMAW",
    "outputId": "cad3ef26-67c4-4f65-f458-78f84e136b22"
   },
   "outputs": [
    {
     "name": "stdout",
     "output_type": "stream",
     "text": [
      "After vectorizations using tf-idf\n",
      "(73196, 5000) (73196,)\n",
      "(36052, 5000) (36052,)\n"
     ]
    }
   ],
   "source": [
    "from sklearn.feature_extraction.text import TfidfVectorizer\n",
    "vectorizer_tfidf = TfidfVectorizer(min_df=10, ngram_range=(1,4), max_features=5000)\n",
    "vectorizer_tfidf.fit(X_train['essay'].values)\n",
    "\n",
    "X_train_essay_tf_idf = vectorizer_tfidf.transform(X_train['essay'].values)\n",
    "X_test_essay_tf_idf = vectorizer_tfidf.transform(X_test['essay'].values)\n",
    "\n",
    "\n",
    "# getting the features of tfidf vectorization \n",
    "features_tfidf = vectorizer_tfidf.get_feature_names() # we will be using this afterwords \n",
    "\n",
    "print(\"After vectorizations using tf-idf\")\n",
    "print(X_train_essay_tf_idf.shape, y_train.shape)\n",
    "print(X_test_essay_tf_idf.shape, y_test.shape)"
   ]
  },
  {
   "cell_type": "markdown",
   "metadata": {
    "id": "bGy86kgHb3dX"
   },
   "source": [
    "<h2>1.4 Make Data Model Ready: encoding numerical, categorical features</h2>"
   ]
  },
  {
   "cell_type": "markdown",
   "metadata": {
    "id": "-9n_7bL928LQ"
   },
   "source": [
    "### Encoding Categorical features "
   ]
  },
  {
   "cell_type": "code",
   "execution_count": null,
   "metadata": {
    "colab": {
     "base_uri": "https://localhost:8080/"
    },
    "id": "y0lodJkF2MbK",
    "outputId": "29a6da53-c8ef-40f3-ebe2-664f7c4a7a30"
   },
   "outputs": [
    {
     "name": "stdout",
     "output_type": "stream",
     "text": [
      "After vectorizations of school_state\n",
      "(73196, 51) (73196,)\n",
      "(36052, 51) (36052,)\n",
      "['ak', 'al', 'ar', 'az', 'ca', 'co', 'ct', 'dc', 'de', 'fl', 'ga', 'hi', 'ia', 'id', 'il', 'in', 'ks', 'ky', 'la', 'ma', 'md', 'me', 'mi', 'mn', 'mo', 'ms', 'mt', 'nc', 'nd', 'ne', 'nh', 'nj', 'nm', 'nv', 'ny', 'oh', 'ok', 'or', 'pa', 'ri', 'sc', 'sd', 'tn', 'tx', 'ut', 'va', 'vt', 'wa', 'wi', 'wv', 'wy']\n",
      "====================================================================================================\n"
     ]
    }
   ],
   "source": [
    "# categorical features \"school_state\"\n",
    "\n",
    "vectorizer_school_state = CountVectorizer()\n",
    "vectorizer_school_state.fit(X_train['school_state'].values) # fit has to happen only on train data\n",
    "\n",
    "# we use the fitted CountVectorizer to convert the text to vector\n",
    "X_train_school_state_ohe = vectorizer_school_state.transform(X_train['school_state'].values)\n",
    "X_test_school_state_ohe = vectorizer_school_state.transform(X_test['school_state'].values)\n",
    "\n",
    "# getting the features of 'school_state' vectorization\n",
    "features_school_state = vectorizer_school_state.get_feature_names() # we will be using this afterwords \n",
    "\n",
    "vectorizer_school_state.get_feature_names()\n",
    "print(\"After vectorizations of school_state\")\n",
    "print(X_train_school_state_ohe.shape, y_train.shape)\n",
    "print(X_test_school_state_ohe.shape, y_test.shape)\n",
    "print(vectorizer_school_state.get_feature_names())\n",
    "print(\"=\"*100)\n"
   ]
  },
  {
   "cell_type": "code",
   "execution_count": null,
   "metadata": {
    "colab": {
     "base_uri": "https://localhost:8080/"
    },
    "id": "lORnfABK1yBh",
    "outputId": "910b1d0c-c63c-4435-f361-069328a2f7ab"
   },
   "outputs": [
    {
     "name": "stdout",
     "output_type": "stream",
     "text": [
      "After vectorizations of clean_categories\n",
      "(73196, 9) (73196,)\n",
      "(36052, 9) (36052,)\n",
      "['appliedlearning', 'care_hunger', 'health_sports', 'history_civics', 'literacy_language', 'math_science', 'music_arts', 'specialneeds', 'warmth']\n",
      "====================================================================================================\n"
     ]
    }
   ],
   "source": [
    "# categorical features \"clean_categories\"\n",
    "\n",
    "vectorizer_clean_categories = CountVectorizer()\n",
    "vectorizer_clean_categories.fit(X_train['clean_categories'].values) # fit has to happen only on train data\n",
    "\n",
    "# we use the fitted CountVectorizer to convert the 'clean_categories' to vector representation\n",
    "X_train_clean_categories_ohe = vectorizer_clean_categories.transform(X_train['clean_categories'].values)\n",
    "X_test_clean_categories_ohe = vectorizer_clean_categories.transform(X_test['clean_categories'].values)\n",
    "\n",
    "\n",
    "# getting the features of 'clean_categories' vectorization\n",
    "features_clean_categories = vectorizer_clean_categories.get_feature_names() # we will be using this afterwords\n",
    "\n",
    "print(\"After vectorizations of clean_categories\")\n",
    "print(X_train_clean_categories_ohe.shape, y_train.shape)\n",
    "print(X_test_clean_categories_ohe.shape, y_test.shape)\n",
    "print(features_clean_categories)\n",
    "print(\"=\"*100)"
   ]
  },
  {
   "cell_type": "code",
   "execution_count": null,
   "metadata": {
    "colab": {
     "base_uri": "https://localhost:8080/"
    },
    "id": "_AVET7hk0lwA",
    "outputId": "56b073c4-f3dc-4d21-d160-3928cfbc7786"
   },
   "outputs": [
    {
     "name": "stdout",
     "output_type": "stream",
     "text": [
      "After vectorizations of clean_subcategories\n",
      "(73196, 30) (73196,)\n",
      "(36052, 30) (36052,)\n",
      "['appliedsciences', 'care_hunger', 'charactereducation', 'civics_government', 'college_careerprep', 'communityservice', 'earlydevelopment', 'economics', 'environmentalscience', 'esl', 'extracurricular', 'financialliteracy', 'foreignlanguages', 'gym_fitness', 'health_lifescience', 'health_wellness', 'history_geography', 'literacy', 'literature_writing', 'mathematics', 'music', 'nutritioneducation', 'other', 'parentinvolvement', 'performingarts', 'socialsciences', 'specialneeds', 'teamsports', 'visualarts', 'warmth']\n",
      "====================================================================================================\n"
     ]
    }
   ],
   "source": [
    "# categorical features \"clean_subcategories\"\n",
    "\n",
    "vectorizer_clean_subcategories = CountVectorizer()\n",
    "vectorizer_clean_subcategories.fit(X_train['clean_subcategories'].values) # fit has to happen only on train data\n",
    "\n",
    "# we use the fitted CountVectorizer to convert the 'clean_subcategories' to vector\n",
    "X_train_clean_subcategories_ohe = vectorizer_clean_subcategories.transform(X_train['clean_subcategories'].values)\n",
    "X_test_clean_subcategories_ohe = vectorizer_clean_subcategories.transform(X_test['clean_subcategories'].values)\n",
    "\n",
    "# getting the features of 'clean_subcategories' vectorization\n",
    "features_clean_subcategories = vectorizer_clean_subcategories.get_feature_names() # we will be using this afterwords\n",
    "\n",
    "print(\"After vectorizations of clean_subcategories\")\n",
    "print(X_train_clean_subcategories_ohe.shape, y_train.shape)\n",
    "print(X_test_clean_subcategories_ohe.shape, y_test.shape)\n",
    "print(features_clean_subcategories)\n",
    "print(\"=\"*100)"
   ]
  },
  {
   "cell_type": "code",
   "execution_count": null,
   "metadata": {
    "colab": {
     "base_uri": "https://localhost:8080/"
    },
    "id": "DpztkIeeyaP6",
    "outputId": "a8dbc3ef-6b9d-4ed2-ab9b-68dc1a94f4ca"
   },
   "outputs": [
    {
     "name": "stdout",
     "output_type": "stream",
     "text": [
      "After vectorizations of teacher_prefix\n",
      "(73196, 5) (73196,)\n",
      "(36052, 5) (36052,)\n",
      "['dr', 'mr', 'mrs', 'ms', 'teacher']\n",
      "====================================================================================================\n"
     ]
    }
   ],
   "source": [
    "# categorical features \"teacher_prefix\"\n",
    "\n",
    "vectorizer_teacher_prefix = CountVectorizer()\n",
    "vectorizer_teacher_prefix.fit(X_train['teacher_prefix'].values) # fit has to happen only on train data\n",
    "\n",
    "# we use the fitted CountVectorizer to convert the \"teacher_prefix\" to vector\n",
    "X_train_teacher_ohe = vectorizer_teacher_prefix.transform(X_train['teacher_prefix'].values)\n",
    "X_test_teacher_ohe = vectorizer_teacher_prefix.transform(X_test['teacher_prefix'].values)\n",
    "\n",
    "# getting the features of 'teacher_prefix' vectorization\n",
    "features_teacher_prefix = vectorizer_teacher_prefix.get_feature_names() # we will be using this afterwords\n",
    "\n",
    "print(\"After vectorizations of teacher_prefix\")\n",
    "print(X_train_teacher_ohe.shape, y_train.shape)\n",
    "print(X_test_teacher_ohe.shape, y_test.shape)\n",
    "print(features_teacher_prefix)\n",
    "print(\"=\"*100)"
   ]
  },
  {
   "cell_type": "code",
   "execution_count": null,
   "metadata": {
    "colab": {
     "base_uri": "https://localhost:8080/"
    },
    "id": "EfXkofX1b3da",
    "outputId": "a1a6c0a4-2b66-4b1c-df5b-88f25a11045d"
   },
   "outputs": [
    {
     "name": "stdout",
     "output_type": "stream",
     "text": [
      "After vectorizations of project_grade_category\n",
      "(73196, 4) (73196,)\n",
      "(36052, 4) (36052,)\n",
      "['grades_3_5', 'grades_6_8', 'grades_9_12', 'grades_prek_2']\n",
      "====================================================================================================\n"
     ]
    }
   ],
   "source": [
    "# categorical features \"project_grade_category\"\n",
    "\n",
    "vectorizer_project_grade_category = CountVectorizer()\n",
    "vectorizer_project_grade_category.fit(X_train['project_grade_category'].values) # fit has to happen only on train data\n",
    "\n",
    "# we use the fitted CountVectorizer to convert the \"project_grade_category\" to vector\n",
    "X_train_grade_ohe = vectorizer_project_grade_category.transform(X_train['project_grade_category'].values)\n",
    "X_test_grade_ohe = vectorizer_project_grade_category.transform(X_test['project_grade_category'].values)\n",
    "\n",
    "# getting the features of 'project_grade_category' vectorization\n",
    "features_project_grade_category = vectorizer_project_grade_category.get_feature_names() # we will be using this afterwords\n",
    "\n",
    "print(\"After vectorizations of project_grade_category\")\n",
    "print(X_train_grade_ohe.shape, y_train.shape)\n",
    "print(X_test_grade_ohe.shape, y_test.shape)\n",
    "print(features_project_grade_category)\n",
    "print(\"=\"*100)"
   ]
  },
  {
   "cell_type": "markdown",
   "metadata": {
    "id": "VwJL3uO83M1W"
   },
   "source": [
    "### Encoding numerical features "
   ]
  },
  {
   "cell_type": "code",
   "execution_count": null,
   "metadata": {
    "colab": {
     "base_uri": "https://localhost:8080/"
    },
    "id": "MCjJ9lEq3MDA",
    "outputId": "30c1b66e-53f7-4ac9-aa0c-bbefd693f5ce"
   },
   "outputs": [
    {
     "name": "stdout",
     "output_type": "stream",
     "text": [
      "After normalization of price feature\n",
      "(73196, 1) (73196,)\n",
      "(36052, 1) (36052,)\n",
      "====================================================================================================\n"
     ]
    }
   ],
   "source": [
    "# \"price\" feature\n",
    "normalizer = Normalizer()\n",
    "\n",
    "normalizer.fit(X_train['price'].values.reshape(-1,1))\n",
    "\n",
    "X_train_price_norm = normalizer.transform(X_train['price'].values.reshape(1,-1)).reshape(-1,1)\n",
    "X_test_price_norm = normalizer.transform(X_test['price'].values.reshape(1,-1)).reshape(-1,1)\n",
    "\n",
    "\n",
    "print(\"After normalization of price feature\")\n",
    "print(X_train_price_norm.shape, y_train.shape)\n",
    "print(X_test_price_norm.shape, y_test.shape)\n",
    "print(\"=\"*100)"
   ]
  },
  {
   "cell_type": "code",
   "execution_count": null,
   "metadata": {
    "colab": {
     "base_uri": "https://localhost:8080/"
    },
    "id": "IRZSnICDLgLh",
    "outputId": "e8b10712-72f4-4bb3-9da9-4aac8969db68"
   },
   "outputs": [
    {
     "name": "stdout",
     "output_type": "stream",
     "text": [
      "After normalization of 'teacher_number_of_previously_posted_projects' feature\n",
      "(73196, 1) (73196,)\n",
      "(36052, 1) (36052,)\n",
      "====================================================================================================\n"
     ]
    }
   ],
   "source": [
    "# 'teacher_number_of_previously_posted_projects' feature\n",
    "normalizer = Normalizer()\n",
    "\n",
    "normalizer.fit(X_train['teacher_number_of_previously_posted_projects'].values.reshape(-1,1))\n",
    "\n",
    "X_train_previous_pro_norm = normalizer.transform(X_train['teacher_number_of_previously_posted_projects'].values.reshape(1,-1)).reshape(-1,1)\n",
    "X_test_previous_pro_norm= normalizer.transform(X_test['teacher_number_of_previously_posted_projects'].values.reshape(1,-1)).reshape(-1,1)\n",
    "\n",
    "print(\"After normalization of 'teacher_number_of_previously_posted_projects' feature\")\n",
    "print(X_train_previous_pro_norm.shape, y_train.shape)\n",
    "print(X_test_previous_pro_norm.shape, y_test.shape)\n",
    "print(\"=\"*100)"
   ]
  },
  {
   "cell_type": "markdown",
   "metadata": {
    "id": "iHnY_kaVGM3R"
   },
   "source": [
    "## Set-1 essay with BOW representation\n"
   ]
  },
  {
   "cell_type": "code",
   "execution_count": null,
   "metadata": {
    "colab": {
     "base_uri": "https://localhost:8080/"
    },
    "id": "x2MJlnGqGL-f",
    "outputId": "e64c8abe-b8ab-4805-9c7a-04a4f0ccbd56"
   },
   "outputs": [
    {
     "name": "stdout",
     "output_type": "stream",
     "text": [
      "Final Data matrix with BOW representation for essay\n",
      "(73196, 5101) (73196,)\n",
      "(36052, 5101) (36052,)\n",
      "====================================================================================================\n"
     ]
    }
   ],
   "source": [
    "# merge two sparse matrices: https://stackoverflow.com/a/19710648/4084039\n",
    "from scipy.sparse import hstack\n",
    "\n",
    "X_tr_bow = hstack((X_train_essay_bow, X_train_school_state_ohe, X_train_clean_categories_ohe,  # train data after BOW representation for text feature('essay')\n",
    "                   X_train_clean_subcategories_ohe, X_train_teacher_ohe, X_train_grade_ohe,\n",
    "                   X_train_price_norm, X_train_previous_pro_norm)).tocsr()\n",
    "\n",
    "X_te_bow = hstack((X_test_essay_bow, X_test_school_state_ohe, X_test_clean_categories_ohe,     # test data after BOW representation for text feature('essay')\n",
    "                   X_test_clean_subcategories_ohe, X_test_teacher_ohe, X_test_grade_ohe,\n",
    "                   X_test_price_norm, X_test_previous_pro_norm)).tocsr()\n",
    "\n",
    "print(\"Final Data matrix with BOW representation for essay\")\n",
    "print(X_tr_bow.shape, y_train.shape)\n",
    "print(X_te_bow.shape, y_test.shape)\n",
    "print(\"=\"*100)"
   ]
  },
  {
   "cell_type": "markdown",
   "metadata": {
    "id": "7Jd0cI-SQKzb"
   },
   "source": [
    "## Set-2 essay with tf-idf representation"
   ]
  },
  {
   "cell_type": "code",
   "execution_count": null,
   "metadata": {
    "colab": {
     "base_uri": "https://localhost:8080/"
    },
    "id": "Qch2OUlUM08b",
    "outputId": "2df8546d-77ca-4526-c96d-4d0e7e79f737"
   },
   "outputs": [
    {
     "name": "stdout",
     "output_type": "stream",
     "text": [
      "Final Data matrix with tf-idf representation for essay\n",
      "(73196, 5101) (73196,)\n",
      "(36052, 5101) (36052,)\n",
      "====================================================================================================\n"
     ]
    }
   ],
   "source": [
    "from scipy.sparse import hstack\n",
    "\n",
    "X_tr_tfidf = hstack((X_train_essay_tf_idf, X_train_school_state_ohe, X_train_clean_categories_ohe,  # train data after tf-idf representation for text feature('essay')\n",
    "                   X_train_clean_subcategories_ohe, X_train_teacher_ohe, X_train_grade_ohe,\n",
    "                   X_train_price_norm, X_train_previous_pro_norm)).tocsr()\n",
    "\n",
    "X_te_tfidf = hstack((X_test_essay_tf_idf, X_test_school_state_ohe, X_test_clean_categories_ohe,     # test data after tf-idf representation for text feature('essay')\n",
    "                   X_test_clean_subcategories_ohe, X_test_teacher_ohe, X_test_grade_ohe,\n",
    "                   X_test_price_norm, X_test_previous_pro_norm)).tocsr()\n",
    "\n",
    "\n",
    "print(\"Final Data matrix with tf-idf representation for essay\")\n",
    "print(X_tr_tfidf.shape, y_train.shape)\n",
    "print(X_te_tfidf.shape, y_test.shape)\n",
    "print(\"=\"*100)"
   ]
  },
  {
   "cell_type": "markdown",
   "metadata": {
    "id": "yYHPYadYb3dh"
   },
   "source": [
    "\n",
    "<h2> Applying Naive Bayes on different kind of featurization. </h2>\n"
   ]
  },
  {
   "cell_type": "markdown",
   "metadata": {
    "id": "Ocz_vpBws4K4"
   },
   "source": [
    "#### **Naive Bayes on BOW representation for feature 'essay'**"
   ]
  },
  {
   "cell_type": "code",
   "execution_count": null,
   "metadata": {
    "id": "vavuGe0qqzjr"
   },
   "outputs": [],
   "source": [
    "# https://scikit-learn.org/stable/modules/generated/sklearn.model_selection.GridSearchCV.html\n",
    "\n",
    "# using grid search for finding the best alpha for laplace smoothing/additive smoothing \n",
    "from sklearn.model_selection import GridSearchCV\n",
    "\n",
    "NB_classifier = MultinomialNB(class_prior=[0.5,0.5]) # model when priors are not adjusted according to the data.\n",
    " \n",
    "parameters = {'alpha': [0.001, 0.05, 0.01, 0.1, 0.2, 0.3, 0.4, 0.5, 1, 2, 3, 4, 5, 10, 20, 25, 30, 50, 70, 100]}  # various values of alhap's to choose from.\n",
    "clf = GridSearchCV(NB_classifier, parameters, cv=10, scoring='roc_auc', return_train_score=True)  # gridsearchCV with 10 fold cross validation.\n",
    "clf.fit(X_tr_bow, y_train)\n",
    "\n",
    "results = pd.DataFrame.from_dict(clf.cv_results_)\n",
    "results = results.sort_values(['param_alpha'])\n"
   ]
  },
  {
   "cell_type": "code",
   "execution_count": null,
   "metadata": {
    "colab": {
     "base_uri": "https://localhost:8080/",
     "height": 578
    },
    "id": "g8Kh-VlPqzmk",
    "outputId": "8e8d5da3-936b-4280-caf8-58f3a9043b66"
   },
   "outputs": [
    {
     "data": {
      "image/png": "[encoded data removed]",
      "text/plain": [
       "<Figure size 432x288 with 1 Axes>"
      ]
     },
     "metadata": {
      "needs_background": "light",
      "tags": []
     },
     "output_type": "display_data"
    },
    {
     "data": {
      "text/html": [
       "<div>\n",
       "<style scoped>\n",
       "    .dataframe tbody tr th:only-of-type {\n",
       "        vertical-align: middle;\n",
       "    }\n",
       "\n",
       "    .dataframe tbody tr th {\n",
       "        vertical-align: top;\n",
       "    }\n",
       "\n",
       "    .dataframe thead th {\n",
       "        text-align: right;\n",
       "    }\n",
       "</style>\n",
       "<table border=\"1\" class=\"dataframe\">\n",
       "  <thead>\n",
       "    <tr style=\"text-align: right;\">\n",
       "      <th></th>\n",
       "      <th>mean_fit_time</th>\n",
       "      <th>std_fit_time</th>\n",
       "      <th>mean_score_time</th>\n",
       "      <th>std_score_time</th>\n",
       "      <th>param_alpha</th>\n",
       "      <th>params</th>\n",
       "      <th>split0_test_score</th>\n",
       "      <th>split1_test_score</th>\n",
       "      <th>split2_test_score</th>\n",
       "      <th>split3_test_score</th>\n",
       "      <th>split4_test_score</th>\n",
       "      <th>split5_test_score</th>\n",
       "      <th>split6_test_score</th>\n",
       "      <th>split7_test_score</th>\n",
       "      <th>split8_test_score</th>\n",
       "      <th>split9_test_score</th>\n",
       "      <th>mean_test_score</th>\n",
       "      <th>std_test_score</th>\n",
       "      <th>rank_test_score</th>\n",
       "      <th>split0_train_score</th>\n",
       "      <th>split1_train_score</th>\n",
       "      <th>split2_train_score</th>\n",
       "      <th>split3_train_score</th>\n",
       "      <th>split4_train_score</th>\n",
       "      <th>split5_train_score</th>\n",
       "      <th>split6_train_score</th>\n",
       "      <th>split7_train_score</th>\n",
       "      <th>split8_train_score</th>\n",
       "      <th>split9_train_score</th>\n",
       "      <th>mean_train_score</th>\n",
       "      <th>std_train_score</th>\n",
       "    </tr>\n",
       "  </thead>\n",
       "  <tbody>\n",
       "    <tr>\n",
       "      <th>0</th>\n",
       "      <td>0.118739</td>\n",
       "      <td>0.006533</td>\n",
       "      <td>0.010216</td>\n",
       "      <td>0.000268</td>\n",
       "      <td>0.001</td>\n",
       "      <td>{'alpha': 0.001}</td>\n",
       "      <td>0.698709</td>\n",
       "      <td>0.681113</td>\n",
       "      <td>0.680771</td>\n",
       "      <td>0.691553</td>\n",
       "      <td>0.690379</td>\n",
       "      <td>0.691632</td>\n",
       "      <td>0.689585</td>\n",
       "      <td>0.702114</td>\n",
       "      <td>0.686632</td>\n",
       "      <td>0.693879</td>\n",
       "      <td>0.690637</td>\n",
       "      <td>0.006438</td>\n",
       "      <td>1</td>\n",
       "      <td>0.715115</td>\n",
       "      <td>0.715837</td>\n",
       "      <td>0.716878</td>\n",
       "      <td>0.715846</td>\n",
       "      <td>0.715578</td>\n",
       "      <td>0.715150</td>\n",
       "      <td>0.715886</td>\n",
       "      <td>0.714264</td>\n",
       "      <td>0.715470</td>\n",
       "      <td>0.715418</td>\n",
       "      <td>0.715544</td>\n",
       "      <td>0.000638</td>\n",
       "    </tr>\n",
       "    <tr>\n",
       "      <th>2</th>\n",
       "      <td>0.116712</td>\n",
       "      <td>0.002730</td>\n",
       "      <td>0.010161</td>\n",
       "      <td>0.000146</td>\n",
       "      <td>0.01</td>\n",
       "      <td>{'alpha': 0.01}</td>\n",
       "      <td>0.698703</td>\n",
       "      <td>0.681109</td>\n",
       "      <td>0.680768</td>\n",
       "      <td>0.691552</td>\n",
       "      <td>0.690376</td>\n",
       "      <td>0.691631</td>\n",
       "      <td>0.689582</td>\n",
       "      <td>0.702107</td>\n",
       "      <td>0.686630</td>\n",
       "      <td>0.693875</td>\n",
       "      <td>0.690633</td>\n",
       "      <td>0.006437</td>\n",
       "      <td>2</td>\n",
       "      <td>0.715111</td>\n",
       "      <td>0.715833</td>\n",
       "      <td>0.716874</td>\n",
       "      <td>0.715843</td>\n",
       "      <td>0.715574</td>\n",
       "      <td>0.715146</td>\n",
       "      <td>0.715882</td>\n",
       "      <td>0.714260</td>\n",
       "      <td>0.715467</td>\n",
       "      <td>0.715414</td>\n",
       "      <td>0.715540</td>\n",
       "      <td>0.000638</td>\n",
       "    </tr>\n",
       "    <tr>\n",
       "      <th>1</th>\n",
       "      <td>0.115758</td>\n",
       "      <td>0.001150</td>\n",
       "      <td>0.010203</td>\n",
       "      <td>0.000187</td>\n",
       "      <td>0.05</td>\n",
       "      <td>{'alpha': 0.05}</td>\n",
       "      <td>0.698689</td>\n",
       "      <td>0.681094</td>\n",
       "      <td>0.680756</td>\n",
       "      <td>0.691536</td>\n",
       "      <td>0.690365</td>\n",
       "      <td>0.691618</td>\n",
       "      <td>0.689566</td>\n",
       "      <td>0.702092</td>\n",
       "      <td>0.686622</td>\n",
       "      <td>0.693859</td>\n",
       "      <td>0.690620</td>\n",
       "      <td>0.006436</td>\n",
       "      <td>3</td>\n",
       "      <td>0.715094</td>\n",
       "      <td>0.715816</td>\n",
       "      <td>0.716856</td>\n",
       "      <td>0.715826</td>\n",
       "      <td>0.715556</td>\n",
       "      <td>0.715129</td>\n",
       "      <td>0.715865</td>\n",
       "      <td>0.714243</td>\n",
       "      <td>0.715450</td>\n",
       "      <td>0.715397</td>\n",
       "      <td>0.715523</td>\n",
       "      <td>0.000638</td>\n",
       "    </tr>\n",
       "    <tr>\n",
       "      <th>3</th>\n",
       "      <td>0.116076</td>\n",
       "      <td>0.001110</td>\n",
       "      <td>0.010110</td>\n",
       "      <td>0.000157</td>\n",
       "      <td>0.1</td>\n",
       "      <td>{'alpha': 0.1}</td>\n",
       "      <td>0.698669</td>\n",
       "      <td>0.681081</td>\n",
       "      <td>0.680745</td>\n",
       "      <td>0.691520</td>\n",
       "      <td>0.690349</td>\n",
       "      <td>0.691608</td>\n",
       "      <td>0.689544</td>\n",
       "      <td>0.702074</td>\n",
       "      <td>0.686615</td>\n",
       "      <td>0.693843</td>\n",
       "      <td>0.690605</td>\n",
       "      <td>0.006434</td>\n",
       "      <td>4</td>\n",
       "      <td>0.715072</td>\n",
       "      <td>0.715795</td>\n",
       "      <td>0.716833</td>\n",
       "      <td>0.715804</td>\n",
       "      <td>0.715535</td>\n",
       "      <td>0.715108</td>\n",
       "      <td>0.715843</td>\n",
       "      <td>0.714222</td>\n",
       "      <td>0.715429</td>\n",
       "      <td>0.715375</td>\n",
       "      <td>0.715501</td>\n",
       "      <td>0.000638</td>\n",
       "    </tr>\n",
       "    <tr>\n",
       "      <th>4</th>\n",
       "      <td>0.115916</td>\n",
       "      <td>0.001551</td>\n",
       "      <td>0.010462</td>\n",
       "      <td>0.001017</td>\n",
       "      <td>0.2</td>\n",
       "      <td>{'alpha': 0.2}</td>\n",
       "      <td>0.698627</td>\n",
       "      <td>0.681044</td>\n",
       "      <td>0.680726</td>\n",
       "      <td>0.691479</td>\n",
       "      <td>0.690312</td>\n",
       "      <td>0.691568</td>\n",
       "      <td>0.689504</td>\n",
       "      <td>0.702038</td>\n",
       "      <td>0.686584</td>\n",
       "      <td>0.693801</td>\n",
       "      <td>0.690568</td>\n",
       "      <td>0.006430</td>\n",
       "      <td>5</td>\n",
       "      <td>0.715029</td>\n",
       "      <td>0.715753</td>\n",
       "      <td>0.716788</td>\n",
       "      <td>0.715762</td>\n",
       "      <td>0.715491</td>\n",
       "      <td>0.715064</td>\n",
       "      <td>0.715800</td>\n",
       "      <td>0.714178</td>\n",
       "      <td>0.715386</td>\n",
       "      <td>0.715330</td>\n",
       "      <td>0.715458</td>\n",
       "      <td>0.000638</td>\n",
       "    </tr>\n",
       "  </tbody>\n",
       "</table>\n",
       "</div>"
      ],
      "text/plain": [
       "   mean_fit_time  std_fit_time  ...  mean_train_score  std_train_score\n",
       "0       0.118739      0.006533  ...          0.715544         0.000638\n",
       "2       0.116712      0.002730  ...          0.715540         0.000638\n",
       "1       0.115758      0.001150  ...          0.715523         0.000638\n",
       "3       0.116076      0.001110  ...          0.715501         0.000638\n",
       "4       0.115916      0.001551  ...          0.715458         0.000638\n",
       "\n",
       "[5 rows x 31 columns]"
      ]
     },
     "execution_count": 82,
     "metadata": {
      "tags": []
     },
     "output_type": "execute_result"
    }
   ],
   "source": [
    "cv_auc = results['mean_test_score']      # mean test scores for every 'alpha'\n",
    "train_auc = results['mean_train_score']  # mean train scores for every 'alpha\n",
    "alpha =  list(results['param_alpha']) \n",
    "alpha=np.log(alpha)   # taking log of alphas so to make the plot more readable\n",
    "plt.plot(alpha, train_auc, label='Train AUC')\n",
    "plt.plot(alpha, cv_auc, label='CV AUC')\n",
    "\n",
    "plt.scatter(alpha, train_auc, label='Train AUC points')\n",
    "plt.scatter(alpha, cv_auc, label='CV AUC points')\n",
    "\n",
    "\n",
    "plt.legend()\n",
    "plt.xlabel(\"alpha: hyperparameter\")\n",
    "plt.ylabel(\"AUC\")\n",
    "plt.title(\"Hyper parameter Vs AUC plot\")\n",
    "plt.grid()\n",
    "plt.show()\n",
    "\n",
    "results.head()"
   ]
  },
  {
   "cell_type": "code",
   "execution_count": null,
   "metadata": {
    "colab": {
     "base_uri": "https://localhost:8080/"
    },
    "id": "cUaCYE0urQgU",
    "outputId": "58db44e1-6693-4347-b493-c2bb3c2a3515"
   },
   "outputs": [
    {
     "data": {
      "text/plain": [
       "{'alpha': 0.001}"
      ]
     },
     "execution_count": 83,
     "metadata": {
      "tags": []
     },
     "output_type": "execute_result"
    }
   ],
   "source": [
    "clf.best_params_  # best parameter"
   ]
  },
  {
   "cell_type": "code",
   "execution_count": null,
   "metadata": {
    "colab": {
     "base_uri": "https://localhost:8080/"
    },
    "id": "7aVmTybutApv",
    "outputId": "521eaec0-c9d9-4c67-a23d-ca4ed7fd4f6d"
   },
   "outputs": [
    {
     "data": {
      "text/plain": [
       "MultinomialNB(alpha=0.001, class_prior=[0.5, 0.5], fit_prior=True)"
      ]
     },
     "execution_count": 84,
     "metadata": {
      "tags": []
     },
     "output_type": "execute_result"
    }
   ],
   "source": [
    "clf.best_estimator_ # best estimator using this estimator lets predict the labels of test data"
   ]
  },
  {
   "cell_type": "code",
   "execution_count": null,
   "metadata": {
    "id": "XBOlcXM1QO3d"
   },
   "outputs": [],
   "source": [
    "# function to get the batchwise probabilities give classifier and data \n",
    "\n",
    "def batch_predict(clf, data):\n",
    "    # roc_auc_score(y_true, y_score) the 2nd parameter should be probability estimates of the positive class\n",
    "    # not the predicted outputs\n",
    "\n",
    "    y_data_pred = []\n",
    "    tr_loop = data.shape[0] - data.shape[0]%1000\n",
    "    # consider you X_tr shape is 49041, then your tr_loop will be 49041 - 49041%1000 = 49000\n",
    "    # in this for loop we will iterate unti the last 1000 multiplier\n",
    "    for i in range(0, tr_loop, 1000):\n",
    "        y_data_pred.extend(clf.predict_proba(data[i:i+1000])[:,1])\n",
    "    # we will be predicting for the last data points\n",
    "    if data.shape[0]%1000 !=0:\n",
    "        y_data_pred.extend(clf.predict_proba(data[tr_loop:])[:,1])\n",
    "    \n",
    "    return y_data_pred"
   ]
  },
  {
   "cell_type": "code",
   "execution_count": null,
   "metadata": {
    "colab": {
     "base_uri": "https://localhost:8080/",
     "height": 295
    },
    "id": "iRfvvg8nOXRJ",
    "outputId": "44576a51-7b18-4223-9c4a-fa7321453c70"
   },
   "outputs": [
    {
     "data": {
      "image/png": "[encoded data removed]",
      "text/plain": [
       "<Figure size 432x288 with 1 Axes>"
      ]
     },
     "metadata": {
      "needs_background": "light",
      "tags": []
     },
     "output_type": "display_data"
    }
   ],
   "source": [
    "from sklearn.metrics import roc_curve, auc\n",
    "\n",
    "NBclassifier_bow = MultinomialNB(alpha=0.001, class_prior=[0.5, 0.5], fit_prior=True)\n",
    "\n",
    "NBclassifier_bow.fit(X_tr_bow, y_train)\n",
    "# roc_auc_score(y_true, y_score) the 2nd parameter should be probability estimates of the positive class\n",
    "# not the predicted outputs\n",
    "\n",
    "y_train_pred = batch_predict(NBclassifier_bow, X_tr_bow)    # predicted probabilities for train data\n",
    "y_test_pred = batch_predict(NBclassifier_bow, X_te_bow)     # predicted probabilities for test data\n",
    "\n",
    "train_fpr, train_tpr, tr_thresholds = roc_curve(y_train, y_train_pred)   # fpr and tpr for train data\n",
    "test_fpr, test_tpr, te_thresholds = roc_curve(y_test, y_test_pred)       # fpr and tpr for test data\n",
    "\n",
    "plt.plot(train_fpr, train_tpr, label=\"train AUC =\"+str(auc(train_fpr, train_tpr)))\n",
    "plt.plot(test_fpr, test_tpr, label=\"test AUC =\"+str(auc(test_fpr, test_tpr)))\n",
    "plt.legend()\n",
    "plt.xlabel(\"fpr\")\n",
    "plt.ylabel(\"tpr\")\n",
    "plt.title(\"ROC curve\")\n",
    "plt.grid()\n",
    "plt.show()"
   ]
  },
  {
   "cell_type": "markdown",
   "metadata": {
    "id": "S68MmVSyDCBP"
   },
   "source": [
    "#### confusion matrix "
   ]
  },
  {
   "cell_type": "code",
   "execution_count": null,
   "metadata": {
    "id": "6vZ6b83pDATw"
   },
   "outputs": [],
   "source": [
    "# we are writing our own function for predict, with defined thresould\n",
    "# we will pick a threshold that will give the least fpr\n",
    "def find_best_threshold(threshould, fpr, tpr):\n",
    "    t = threshould[np.argmax(tpr*(1-fpr))]\n",
    "    # (tpr*(1-fpr)) will be maximum if your fpr is very low and tpr is very high\n",
    "    print(\"the maximum value of tpr*(1-fpr)\", max(tpr*(1-fpr)), \"for threshold\", np.round(t,3))\n",
    "    return t\n",
    "\n",
    "def predict_with_best_t(proba, threshould):\n",
    "    predictions = []\n",
    "    for i in proba:\n",
    "        if i>=threshould:\n",
    "            predictions.append(1)\n",
    "        else:\n",
    "            predictions.append(0)\n",
    "    return predictions"
   ]
  },
  {
   "cell_type": "code",
   "execution_count": null,
   "metadata": {
    "colab": {
     "base_uri": "https://localhost:8080/"
    },
    "id": "pJ83dX96DBL9",
    "outputId": "a566c6fe-5762-476a-be84-88e472607dad"
   },
   "outputs": [
    {
     "name": "stdout",
     "output_type": "stream",
     "text": [
      "the maximum value of tpr*(1-fpr) 0.4392671383672738 for threshold 0.52\n"
     ]
    }
   ],
   "source": [
    "from sklearn.metrics import confusion_matrix\n",
    "\n",
    "best_t = find_best_threshold(tr_thresholds, train_fpr, train_tpr)  # getting the best threshold for seperating the predicted class labels\n",
    "\n",
    "test_confusion_matrix = confusion_matrix(y_test, predict_with_best_t(y_test_pred, best_t))  # calculates the confusion matrix\n"
   ]
  },
  {
   "cell_type": "code",
   "execution_count": null,
   "metadata": {
    "colab": {
     "base_uri": "https://localhost:8080/",
     "height": 298
    },
    "id": "ThfxEwDN92eN",
    "outputId": "01ff6fdb-11f9-4494-d77c-6e6e517593c4"
   },
   "outputs": [
    {
     "name": "stdout",
     "output_type": "stream",
     "text": [
      "Test confusion matrix\n"
     ]
    },
    {
     "data": {
      "text/plain": [
       "<matplotlib.axes._subplots.AxesSubplot at 0x7f70a2563198>"
      ]
     },
     "execution_count": 89,
     "metadata": {
      "tags": []
     },
     "output_type": "execute_result"
    },
    {
     "data": {
      "image/png": "[encoded data removed]",
      "text/plain": [
       "<Figure size 432x288 with 1 Axes>"
      ]
     },
     "metadata": {
      "needs_background": "light",
      "tags": []
     },
     "output_type": "display_data"
    }
   ],
   "source": [
    "# below code is taken from  https://medium.com/@dtuk81/confusion-matrix-visualization-fc31e3f30fea\n",
    "\n",
    "group_names = ['True Neg','False Pos','False Neg','True Pos']\n",
    "\n",
    "group_counts = ['{0:0.0f}'.format(value) for value in\n",
    "                test_confusion_matrix.flatten()]\n",
    "\n",
    "labels = [f'{v1}\\n{v2}' for v1, v2 in\n",
    "          zip(group_names,group_counts)]\n",
    "labels = np.asarray(labels).reshape(2,2)\n",
    "\n",
    "print(\"Test confusion matrix\")\n",
    "sns.heatmap(test_confusion_matrix, annot=labels, fmt='', cmap='Oranges',cbar=False, xticklabels=['Prediction:False', 'Prediction:True'], yticklabels=['Actal:False', 'Actual:True'])"
   ]
  },
  {
   "cell_type": "markdown",
   "metadata": {
    "id": "R-IJppIkuozS"
   },
   "source": [
    "#### **Naive Bayes on tf-idf representation for feature 'essay'**"
   ]
  },
  {
   "cell_type": "code",
   "execution_count": null,
   "metadata": {
    "id": "7JMMf1B3un_K"
   },
   "outputs": [],
   "source": [
    "# https://scikit-learn.org/stable/modules/generated/sklearn.model_selection.GridSearchCV.html\n",
    "\n",
    "from sklearn.model_selection import GridSearchCV\n",
    "\n",
    "NB_classifier = MultinomialNB(class_prior=[0.5,0.5])\n",
    "parameters = {'alpha': [0.001, 0.05, 0.01, 0.1, 0.2, 0.3, 0.4, 0.5, 1, 2, 3, 4, 5, 10, 20, 25, 30, 50, 70, 100]}\n",
    "clf = GridSearchCV(NB_classifier, parameters, cv=10, scoring='roc_auc', return_train_score=True)\n",
    "clf.fit(X_tr_tfidf, y_train)\n",
    "\n",
    "results = pd.DataFrame.from_dict(clf.cv_results_)\n",
    "results = results.sort_values(['param_alpha'])\n"
   ]
  },
  {
   "cell_type": "code",
   "execution_count": null,
   "metadata": {
    "colab": {
     "base_uri": "https://localhost:8080/",
     "height": 578
    },
    "id": "TDsvGvQduoC-",
    "outputId": "f2bd7354-b6e8-48ba-b15a-e749b06728cf"
   },
   "outputs": [
    {
     "data": {
      "image/png": "[encoded data removed]",
      "text/plain": [
       "<Figure size 432x288 with 1 Axes>"
      ]
     },
     "metadata": {
      "needs_background": "light",
      "tags": []
     },
     "output_type": "display_data"
    },
    {
     "data": {
      "text/html": [
       "<div>\n",
       "<style scoped>\n",
       "    .dataframe tbody tr th:only-of-type {\n",
       "        vertical-align: middle;\n",
       "    }\n",
       "\n",
       "    .dataframe tbody tr th {\n",
       "        vertical-align: top;\n",
       "    }\n",
       "\n",
       "    .dataframe thead th {\n",
       "        text-align: right;\n",
       "    }\n",
       "</style>\n",
       "<table border=\"1\" class=\"dataframe\">\n",
       "  <thead>\n",
       "    <tr style=\"text-align: right;\">\n",
       "      <th></th>\n",
       "      <th>mean_fit_time</th>\n",
       "      <th>std_fit_time</th>\n",
       "      <th>mean_score_time</th>\n",
       "      <th>std_score_time</th>\n",
       "      <th>param_alpha</th>\n",
       "      <th>params</th>\n",
       "      <th>split0_test_score</th>\n",
       "      <th>split1_test_score</th>\n",
       "      <th>split2_test_score</th>\n",
       "      <th>split3_test_score</th>\n",
       "      <th>split4_test_score</th>\n",
       "      <th>split5_test_score</th>\n",
       "      <th>split6_test_score</th>\n",
       "      <th>split7_test_score</th>\n",
       "      <th>split8_test_score</th>\n",
       "      <th>split9_test_score</th>\n",
       "      <th>mean_test_score</th>\n",
       "      <th>std_test_score</th>\n",
       "      <th>rank_test_score</th>\n",
       "      <th>split0_train_score</th>\n",
       "      <th>split1_train_score</th>\n",
       "      <th>split2_train_score</th>\n",
       "      <th>split3_train_score</th>\n",
       "      <th>split4_train_score</th>\n",
       "      <th>split5_train_score</th>\n",
       "      <th>split6_train_score</th>\n",
       "      <th>split7_train_score</th>\n",
       "      <th>split8_train_score</th>\n",
       "      <th>split9_train_score</th>\n",
       "      <th>mean_train_score</th>\n",
       "      <th>std_train_score</th>\n",
       "    </tr>\n",
       "  </thead>\n",
       "  <tbody>\n",
       "    <tr>\n",
       "      <th>0</th>\n",
       "      <td>0.116652</td>\n",
       "      <td>0.002939</td>\n",
       "      <td>0.010541</td>\n",
       "      <td>0.000694</td>\n",
       "      <td>0.001</td>\n",
       "      <td>{'alpha': 0.001}</td>\n",
       "      <td>0.683851</td>\n",
       "      <td>0.661570</td>\n",
       "      <td>0.664878</td>\n",
       "      <td>0.677991</td>\n",
       "      <td>0.668676</td>\n",
       "      <td>0.672785</td>\n",
       "      <td>0.661055</td>\n",
       "      <td>0.687219</td>\n",
       "      <td>0.661107</td>\n",
       "      <td>0.672045</td>\n",
       "      <td>0.671118</td>\n",
       "      <td>0.008999</td>\n",
       "      <td>1</td>\n",
       "      <td>0.697643</td>\n",
       "      <td>0.698587</td>\n",
       "      <td>0.698793</td>\n",
       "      <td>0.697957</td>\n",
       "      <td>0.697453</td>\n",
       "      <td>0.696862</td>\n",
       "      <td>0.698368</td>\n",
       "      <td>0.695868</td>\n",
       "      <td>0.697838</td>\n",
       "      <td>0.696289</td>\n",
       "      <td>0.697566</td>\n",
       "      <td>0.000919</td>\n",
       "    </tr>\n",
       "    <tr>\n",
       "      <th>2</th>\n",
       "      <td>0.114465</td>\n",
       "      <td>0.001361</td>\n",
       "      <td>0.010049</td>\n",
       "      <td>0.000136</td>\n",
       "      <td>0.01</td>\n",
       "      <td>{'alpha': 0.01}</td>\n",
       "      <td>0.683793</td>\n",
       "      <td>0.661517</td>\n",
       "      <td>0.664845</td>\n",
       "      <td>0.677942</td>\n",
       "      <td>0.668627</td>\n",
       "      <td>0.672747</td>\n",
       "      <td>0.661001</td>\n",
       "      <td>0.687169</td>\n",
       "      <td>0.661064</td>\n",
       "      <td>0.672003</td>\n",
       "      <td>0.671071</td>\n",
       "      <td>0.008997</td>\n",
       "      <td>2</td>\n",
       "      <td>0.697588</td>\n",
       "      <td>0.698534</td>\n",
       "      <td>0.698737</td>\n",
       "      <td>0.697903</td>\n",
       "      <td>0.697399</td>\n",
       "      <td>0.696807</td>\n",
       "      <td>0.698314</td>\n",
       "      <td>0.695814</td>\n",
       "      <td>0.697783</td>\n",
       "      <td>0.696232</td>\n",
       "      <td>0.697511</td>\n",
       "      <td>0.000919</td>\n",
       "    </tr>\n",
       "    <tr>\n",
       "      <th>1</th>\n",
       "      <td>0.116240</td>\n",
       "      <td>0.003049</td>\n",
       "      <td>0.010030</td>\n",
       "      <td>0.000093</td>\n",
       "      <td>0.05</td>\n",
       "      <td>{'alpha': 0.05}</td>\n",
       "      <td>0.683554</td>\n",
       "      <td>0.661324</td>\n",
       "      <td>0.664707</td>\n",
       "      <td>0.677763</td>\n",
       "      <td>0.668383</td>\n",
       "      <td>0.672589</td>\n",
       "      <td>0.660803</td>\n",
       "      <td>0.686938</td>\n",
       "      <td>0.660850</td>\n",
       "      <td>0.671795</td>\n",
       "      <td>0.670871</td>\n",
       "      <td>0.008986</td>\n",
       "      <td>3</td>\n",
       "      <td>0.697342</td>\n",
       "      <td>0.698296</td>\n",
       "      <td>0.698488</td>\n",
       "      <td>0.697665</td>\n",
       "      <td>0.697160</td>\n",
       "      <td>0.696562</td>\n",
       "      <td>0.698070</td>\n",
       "      <td>0.695567</td>\n",
       "      <td>0.697540</td>\n",
       "      <td>0.695979</td>\n",
       "      <td>0.697267</td>\n",
       "      <td>0.000921</td>\n",
       "    </tr>\n",
       "    <tr>\n",
       "      <th>3</th>\n",
       "      <td>0.114386</td>\n",
       "      <td>0.000585</td>\n",
       "      <td>0.010076</td>\n",
       "      <td>0.000195</td>\n",
       "      <td>0.1</td>\n",
       "      <td>{'alpha': 0.1}</td>\n",
       "      <td>0.683291</td>\n",
       "      <td>0.661089</td>\n",
       "      <td>0.664547</td>\n",
       "      <td>0.677516</td>\n",
       "      <td>0.668054</td>\n",
       "      <td>0.672377</td>\n",
       "      <td>0.660586</td>\n",
       "      <td>0.686655</td>\n",
       "      <td>0.660622</td>\n",
       "      <td>0.671531</td>\n",
       "      <td>0.670627</td>\n",
       "      <td>0.008967</td>\n",
       "      <td>4</td>\n",
       "      <td>0.697037</td>\n",
       "      <td>0.697999</td>\n",
       "      <td>0.698177</td>\n",
       "      <td>0.697365</td>\n",
       "      <td>0.696861</td>\n",
       "      <td>0.696256</td>\n",
       "      <td>0.697765</td>\n",
       "      <td>0.695260</td>\n",
       "      <td>0.697237</td>\n",
       "      <td>0.695669</td>\n",
       "      <td>0.696963</td>\n",
       "      <td>0.000923</td>\n",
       "    </tr>\n",
       "    <tr>\n",
       "      <th>4</th>\n",
       "      <td>0.115610</td>\n",
       "      <td>0.002328</td>\n",
       "      <td>0.010122</td>\n",
       "      <td>0.000236</td>\n",
       "      <td>0.2</td>\n",
       "      <td>{'alpha': 0.2}</td>\n",
       "      <td>0.682748</td>\n",
       "      <td>0.660591</td>\n",
       "      <td>0.664237</td>\n",
       "      <td>0.677037</td>\n",
       "      <td>0.667463</td>\n",
       "      <td>0.671967</td>\n",
       "      <td>0.660075</td>\n",
       "      <td>0.686037</td>\n",
       "      <td>0.660090</td>\n",
       "      <td>0.671042</td>\n",
       "      <td>0.670129</td>\n",
       "      <td>0.008938</td>\n",
       "      <td>5</td>\n",
       "      <td>0.696425</td>\n",
       "      <td>0.697410</td>\n",
       "      <td>0.697551</td>\n",
       "      <td>0.696768</td>\n",
       "      <td>0.696265</td>\n",
       "      <td>0.695645</td>\n",
       "      <td>0.697159</td>\n",
       "      <td>0.694649</td>\n",
       "      <td>0.696627</td>\n",
       "      <td>0.695050</td>\n",
       "      <td>0.696355</td>\n",
       "      <td>0.000926</td>\n",
       "    </tr>\n",
       "  </tbody>\n",
       "</table>\n",
       "</div>"
      ],
      "text/plain": [
       "   mean_fit_time  std_fit_time  ...  mean_train_score  std_train_score\n",
       "0       0.116652      0.002939  ...          0.697566         0.000919\n",
       "2       0.114465      0.001361  ...          0.697511         0.000919\n",
       "1       0.116240      0.003049  ...          0.697267         0.000921\n",
       "3       0.114386      0.000585  ...          0.696963         0.000923\n",
       "4       0.115610      0.002328  ...          0.696355         0.000926\n",
       "\n",
       "[5 rows x 31 columns]"
      ]
     },
     "execution_count": 91,
     "metadata": {
      "tags": []
     },
     "output_type": "execute_result"
    }
   ],
   "source": [
    "cv_auc = results['mean_test_score']\n",
    "train_auc = results['mean_train_score'] \n",
    "K =  list(results['param_alpha'])\n",
    "K = np.log(K)\n",
    "plt.plot(K, train_auc, label='Train AUC')\n",
    "plt.plot(K, cv_auc, label='CV AUC')\n",
    "\n",
    "plt.scatter(K, train_auc, label='Train AUC points')\n",
    "plt.scatter(K, cv_auc, label='CV AUC points')\n",
    "\n",
    "\n",
    "plt.legend()\n",
    "plt.xlabel(\"alpha: hyperparameter\")\n",
    "plt.ylabel(\"AUC\")\n",
    "plt.title(\"Hyper parameter Vs AUC plot\")\n",
    "plt.grid()\n",
    "plt.show()\n",
    "\n",
    "results.head()"
   ]
  },
  {
   "cell_type": "code",
   "execution_count": null,
   "metadata": {
    "colab": {
     "base_uri": "https://localhost:8080/"
    },
    "id": "qCYX9UiIvMsH",
    "outputId": "215a9322-ff89-4e9b-969e-c705822ea6bd"
   },
   "outputs": [
    {
     "data": {
      "text/plain": [
       "{'alpha': 0.001}"
      ]
     },
     "execution_count": 92,
     "metadata": {
      "tags": []
     },
     "output_type": "execute_result"
    }
   ],
   "source": [
    "clf.best_params_  #best parameter"
   ]
  },
  {
   "cell_type": "code",
   "execution_count": null,
   "metadata": {
    "colab": {
     "base_uri": "https://localhost:8080/"
    },
    "id": "7lJOuRcuuoG2",
    "outputId": "3fb8ff7d-cdd9-4b59-f2e5-243c8292a1a0"
   },
   "outputs": [
    {
     "data": {
      "text/plain": [
       "MultinomialNB(alpha=0.001, class_prior=[0.5, 0.5], fit_prior=True)"
      ]
     },
     "execution_count": 93,
     "metadata": {
      "tags": []
     },
     "output_type": "execute_result"
    }
   ],
   "source": [
    "clf.best_estimator_ # using this estimator we will predict test labels"
   ]
  },
  {
   "cell_type": "code",
   "execution_count": null,
   "metadata": {
    "colab": {
     "base_uri": "https://localhost:8080/",
     "height": 295
    },
    "id": "_9eBUloCuoLv",
    "outputId": "a8562505-e4f6-469a-fe55-7d70420bce2a"
   },
   "outputs": [
    {
     "data": {
      "image/png": "[encoded data removed]",
      "text/plain": [
       "<Figure size 432x288 with 1 Axes>"
      ]
     },
     "metadata": {
      "needs_background": "light",
      "tags": []
     },
     "output_type": "display_data"
    }
   ],
   "source": [
    "NBclassifier_tfidf = MultinomialNB(alpha=0.001, class_prior=[0.5, 0.5], fit_prior=True)  # best estimator\n",
    "\n",
    "NBclassifier_tfidf.fit(X_tr_tfidf, y_train)\n",
    "# roc_auc_score(y_true, y_score) the 2nd parameter should be probability estimates of the positive class\n",
    "# not the predicted outputs\n",
    "\n",
    "y_train_pred = batch_predict(NBclassifier_tfidf, X_tr_tfidf)    \n",
    "y_test_pred = batch_predict(NBclassifier_tfidf, X_te_tfidf)\n",
    "\n",
    "train_fpr, train_tpr, tr_thresholds = roc_curve(y_train, y_train_pred)\n",
    "test_fpr, test_tpr, te_thresholds = roc_curve(y_test, y_test_pred)\n",
    "\n",
    "plt.plot(train_fpr, train_tpr, label=\"train AUC =\"+str(auc(train_fpr, train_tpr)))\n",
    "plt.plot(test_fpr, test_tpr, label=\"test AUC =\"+str(auc(test_fpr, test_tpr)))\n",
    "plt.legend()\n",
    "plt.xlabel(\"fpr\")\n",
    "plt.ylabel(\"tpe\")\n",
    "plt.title(\"ROC curve\")\n",
    "plt.grid()\n",
    "plt.show()"
   ]
  },
  {
   "cell_type": "markdown",
   "metadata": {
    "id": "rgGvLKs3LVCB"
   },
   "source": [
    "#### Confusion matrix"
   ]
  },
  {
   "cell_type": "code",
   "execution_count": null,
   "metadata": {
    "colab": {
     "base_uri": "https://localhost:8080/"
    },
    "id": "VNKhsYw0LVjX",
    "outputId": "28c5b899-aff5-4a1b-a4d6-30e47b1272ca"
   },
   "outputs": [
    {
     "name": "stdout",
     "output_type": "stream",
     "text": [
      "the maximum value of tpr*(1-fpr) 0.41689787883710283 for threshold 0.501\n"
     ]
    }
   ],
   "source": [
    "best_t = find_best_threshold(tr_thresholds, train_fpr, train_tpr)  # getting the best threshold for separating the predicted class labels\n",
    "\n",
    "test_confusion_matrix = confusion_matrix(y_test, predict_with_best_t(y_test_pred, best_t))  # calculates the confusion matrix"
   ]
  },
  {
   "cell_type": "code",
   "execution_count": null,
   "metadata": {
    "colab": {
     "base_uri": "https://localhost:8080/",
     "height": 298
    },
    "id": "2UjRL2RTLVpf",
    "outputId": "1ae17bef-a072-40e8-fa9a-76e6c14c500b"
   },
   "outputs": [
    {
     "name": "stdout",
     "output_type": "stream",
     "text": [
      "Test confusion matrix\n"
     ]
    },
    {
     "data": {
      "text/plain": [
       "<matplotlib.axes._subplots.AxesSubplot at 0x7f70b1939240>"
      ]
     },
     "execution_count": 96,
     "metadata": {
      "tags": []
     },
     "output_type": "execute_result"
    },
    {
     "data": {
      "image/png": "[encoded data removed]",
      "text/plain": [
       "<Figure size 432x288 with 1 Axes>"
      ]
     },
     "metadata": {
      "needs_background": "light",
      "tags": []
     },
     "output_type": "display_data"
    }
   ],
   "source": [
    "# below code is taken from  https://medium.com/@dtuk81/confusion-matrix-visualization-fc31e3f30fea\n",
    "group_names = ['True Neg','False Pos','False Neg','True Pos']\n",
    "\n",
    "group_counts = ['{0:0.0f}'.format(value) for value in\n",
    "                test_confusion_matrix.flatten()]\n",
    "\n",
    "labels = [f'{v1}\\n{v2}' for v1, v2 in\n",
    "          zip(group_names,group_counts)]\n",
    "labels = np.asarray(labels).reshape(2,2)\n",
    "\n",
    "print(\"Test confusion matrix\")\n",
    "sns.heatmap(test_confusion_matrix, annot=labels, fmt='', cmap='Oranges',cbar=False, xticklabels=['Prediction:False', 'Prediction:True'], yticklabels=['Actal:False', 'Actual:True'])"
   ]
  },
  {
   "cell_type": "markdown",
   "metadata": {
    "id": "qeyKEiViZiP6"
   },
   "source": [
    " #### Top 20 features from Set 1 "
   ]
  },
  {
   "cell_type": "code",
   "execution_count": null,
   "metadata": {
    "id": "GZWwf2A0PzBK"
   },
   "outputs": [],
   "source": [
    "# list of all features from train dataset where 'essay' feature is converted in to BOW representation\n",
    "list_of_features = features_bow + features_school_state + features_clean_categories + features_clean_subcategories + features_teacher_prefix + features_project_grade_category + ['price' ,'teacher_number_of_previously_posted_projects']"
   ]
  },
  {
   "cell_type": "code",
   "execution_count": null,
   "metadata": {
    "colab": {
     "base_uri": "https://localhost:8080/"
    },
    "id": "3fJFSPoGcCce",
    "outputId": "6e6226f2-6668-495a-c9fe-d67a54aa69fc"
   },
   "outputs": [
    {
     "name": "stdout",
     "output_type": "stream",
     "text": [
      "students\n",
      "school\n",
      "learning\n",
      "my\n",
      "classroom\n",
      "not\n",
      "learn\n",
      "they\n",
      "help\n",
      "the\n",
      "my students\n",
      "nannan\n",
      "many\n",
      "we\n",
      "need\n",
      "work\n",
      "come\n",
      "love\n",
      "reading\n",
      "able\n"
     ]
    }
   ],
   "source": [
    "# Top 20 features form negative class\n",
    "features = np.argsort(NBclassifier_bow.feature_log_prob_[0]) # sorting the features log probability for negtive class\n",
    "                                                             #  form low probability to high probability and getting its indice \n",
    "\n",
    "features = features[::-1]  # reversing it for high probability to low probability indice\n",
    "\n",
    "for i in features[:20]:  # printing top 20 features from negative calss\n",
    "    print(list_of_features[i])"
   ]
  },
  {
   "cell_type": "code",
   "execution_count": null,
   "metadata": {
    "colab": {
     "base_uri": "https://localhost:8080/"
    },
    "id": "X_wS82mvPL0_",
    "outputId": "f9d7b234-2301-4620-b7b6-f56840ca4cbc"
   },
   "outputs": [
    {
     "name": "stdout",
     "output_type": "stream",
     "text": [
      "students\n",
      "school\n",
      "my\n",
      "learning\n",
      "classroom\n",
      "the\n",
      "they\n",
      "not\n",
      "my students\n",
      "learn\n",
      "help\n",
      "many\n",
      "nannan\n",
      "we\n",
      "reading\n",
      "need\n",
      "work\n",
      "use\n",
      "love\n",
      "day\n"
     ]
    }
   ],
   "source": [
    "# Top 20 features form positive class\n",
    "features = np.argsort(NBclassifier_bow.feature_log_prob_[1]) # sorting the features log probability for positive class \n",
    "                                                             # form low probability to high probability and getting its indice \n",
    "\n",
    "features = features[::-1] # reversing it form high proba to low proba\n",
    "\n",
    "for i in features[:20]:  # printing top 20 features form positive class\n",
    "    print(list_of_features[i])"
   ]
  },
  {
   "cell_type": "markdown",
   "metadata": {
    "id": "lS9hIHdib3dp"
   },
   "source": [
    "<h1>Summary</h1>\n"
   ]
  },
  {
   "cell_type": "code",
   "execution_count": null,
   "metadata": {
    "id": "DNwqilFxb3di"
   },
   "outputs": [],
   "source": [
    "from prettytable import PrettyTable\n",
    "x = PrettyTable()"
   ]
  },
  {
   "cell_type": "code",
   "execution_count": null,
   "metadata": {
    "id": "fIrhkvea4lFL"
   },
   "outputs": [],
   "source": [
    "x.field_names = [\"Vectorizer\", \"Model\", \"Hyper parameter : alpha\", \"AUC\"]\n",
    "x.add_row([\"BOW\", 'Multinomial Naive Bayes', 0.001, 0.69])\n",
    "x.add_row([\"tf-idf\", 'Multinomial Naive Bayes', 0.001, 0.67])"
   ]
  },
  {
   "cell_type": "code",
   "execution_count": null,
   "metadata": {
    "colab": {
     "base_uri": "https://localhost:8080/"
    },
    "id": "kehRXAioRidI",
    "outputId": "1ebe1463-c665-43e4-c6c0-46371a6c4bf1"
   },
   "outputs": [
    {
     "name": "stdout",
     "output_type": "stream",
     "text": [
      "+------------+-------------------------+-------------------------+------+\n",
      "| Vectorizer |          Model          | Hyper parameter : alpha | AUC  |\n",
      "+------------+-------------------------+-------------------------+------+\n",
      "|    BOW     | Multinomial Naive Bayes |          0.001          | 0.69 |\n",
      "|   tf-idf   | Multinomial Naive Bayes |          0.001          | 0.67 |\n",
      "+------------+-------------------------+-------------------------+------+\n"
     ]
    }
   ],
   "source": [
    "print(x.get_string())"
   ]
  },
  {
   "cell_type": "code",
   "execution_count": null,
   "metadata": {
    "id": "AWMyGz93kzWH"
   },
   "outputs": [],
   "source": []
  }
 ],
 "metadata": {
  "colab": {
   "collapsed_sections": [],
   "name": "Naive_Bayes_DonorsChoose.ipynb",
   "provenance": []
  },
  "kernelspec": {
   "display_name": "Python 3",
   "language": "python",
   "name": "python3"
  },
  "language_info": {
   "codemirror_mode": {
    "name": "ipython",
    "version": 3
   },
   "file_extension": ".py",
   "mimetype": "text/x-python",
   "name": "python",
   "nbconvert_exporter": "python",
   "pygments_lexer": "ipython3",
   "version": "3.8.8"
  }
 },
 "nbformat": 4,
 "nbformat_minor": 1
}
